{
  "nbformat": 4,
  "nbformat_minor": 0,
  "metadata": {
    "colab": {
      "provenance": []
    },
    "kernelspec": {
      "name": "python3",
      "display_name": "Python 3"
    },
    "language_info": {
      "name": "python"
    }
  },
  "cells": [
    {
      "cell_type": "code",
      "source": [
        "num = int(input(\"enter any number \"))\n",
        "\n",
        "if num%5==0:\n",
        "  print(\"it is divisible by 5\")\n",
        "elif num%7==0:\n",
        "  print(\"its is divisble by 7\")\n",
        "else:\n",
        "  print(\"its not divisble by 5 and 7\")\n"
      ],
      "metadata": {
        "id": "-GtHm0lC01oI"
      },
      "execution_count": null,
      "outputs": []
    },
    {
      "cell_type": "code",
      "source": [
        "num = int(input(\"enter any number between 1 and 12 \"))\n",
        "\n",
        "if num==1:\n",
        "  print(\"jan\")\n",
        "elif num==2:\n",
        "  print(\"feb\")\n",
        "elif num==3:\n",
        "  print(\"march\")\n",
        "elif num==4:\n",
        "  print(\"april\")\n",
        "elif num==5:\n",
        "  print(\"may\")\n",
        "elif num==6:\n",
        "  print(\"june\")\n",
        "elif num==7:\n",
        "  print(\"july\")\n",
        "elif num==8:\n",
        "  print(\"aug\")\n",
        "elif num==9:\n",
        "  print(\"sep\")\n",
        "elif num==1:\n",
        "  print(\"oct\")\n",
        "elif num==11:\n",
        "  print(\"nov\")\n",
        "else:\n",
        "  print(\"dec\")"
      ],
      "metadata": {
        "colab": {
          "base_uri": "https://localhost:8080/"
        },
        "id": "FOlkXsMc01RL",
        "outputId": "19e77311-4b36-4377-a430-57b9f8a7c9b7"
      },
      "execution_count": null,
      "outputs": [
        {
          "output_type": "stream",
          "name": "stdout",
          "text": [
            "enter any number between 1 and 12 1\n",
            "jan\n"
          ]
        }
      ]
    },
    {
      "cell_type": "code",
      "source": [
        "num = int(input(\"enter any number between 1 and 7 \"))\n",
        "\n",
        "if num==1:\n",
        "  print(\"mon\")\n",
        "elif num==2:\n",
        "  print(\"tue\")\n",
        "elif num==3:\n",
        "  print(\"wed\")\n",
        "elif num==4:\n",
        "  print(\"thus\")\n",
        "elif num==5:\n",
        "  print(\"fri\")\n",
        "elif num==6:\n",
        "  print(\"sat\")\n",
        "elif num==7:\n",
        "  print(\"sun\")"
      ],
      "metadata": {
        "colab": {
          "base_uri": "https://localhost:8080/"
        },
        "id": "fyGhh-Pk-u2q",
        "outputId": "3d337e34-d365-495d-f4d9-746cc1b388a9"
      },
      "execution_count": null,
      "outputs": [
        {
          "output_type": "stream",
          "name": "stdout",
          "text": [
            "enter any number between 1 and 7 4\n",
            "thus\n"
          ]
        }
      ]
    },
    {
      "cell_type": "code",
      "source": [
        "a = int(input(\"Enter first number: \"))\n",
        "b = int(input(\"Enter second number: \"))\n",
        "c = int(input(\"Enter third number: \"))\n",
        "d = int(input(\"Enter fourth number: \"))\n",
        "\n",
        "largest = a\n",
        "if b > largest:\n",
        "    largest = b\n",
        "if c > largest:\n",
        "    largest = c\n",
        "if d > largest:\n",
        "    largest = d\n",
        "\n",
        "print(\"The largest number is:\", largest)\n"
      ],
      "metadata": {
        "colab": {
          "base_uri": "https://localhost:8080/"
        },
        "id": "L4Ek9LpT-vLT",
        "outputId": "b0f68c27-0588-41e4-92d6-3d65b8a3f631"
      },
      "execution_count": null,
      "outputs": [
        {
          "output_type": "stream",
          "name": "stdout",
          "text": [
            "Enter first number: 34\n",
            "Enter second number: 35\n",
            "Enter third number: 2\n",
            "Enter fourth number: 89\n",
            "The largest number is: 89\n"
          ]
        }
      ]
    },
    {
      "cell_type": "code",
      "source": [
        "range(start,end,jump)"
      ],
      "metadata": {
        "id": "46iL5SmdCahF"
      },
      "execution_count": null,
      "outputs": []
    },
    {
      "cell_type": "code",
      "source": [
        "for i in range(1,10):\n",
        "  print(i)"
      ],
      "metadata": {
        "colab": {
          "base_uri": "https://localhost:8080/"
        },
        "id": "gr3xRcxPBYhY",
        "outputId": "015421b1-6b81-4cf4-8698-09cc265e5030"
      },
      "execution_count": null,
      "outputs": [
        {
          "output_type": "stream",
          "name": "stdout",
          "text": [
            "1\n",
            "2\n",
            "3\n",
            "4\n",
            "5\n",
            "6\n",
            "7\n",
            "8\n",
            "9\n"
          ]
        }
      ]
    },
    {
      "cell_type": "code",
      "source": [
        "# Code here\n",
        "curr_pop = 10000\n",
        "\n",
        "for i in [10, 9, 8, 7, 6, 5, 4, 3, 2, 1]:\n",
        "  print(i,curr_pop)\n",
        "  curr_pop = curr_pop/1.1\n"
      ],
      "metadata": {
        "id": "X8Jv9s6CVjXc",
        "colab": {
          "base_uri": "https://localhost:8080/"
        },
        "outputId": "98b8e21e-c3df-4f4a-b4f8-25dc9a2f9fca"
      },
      "execution_count": null,
      "outputs": [
        {
          "output_type": "stream",
          "name": "stdout",
          "text": [
            "10 10000\n",
            "9 9090.90909090909\n",
            "8 8264.462809917353\n",
            "7 7513.148009015775\n",
            "6 6830.134553650703\n",
            "5 6209.213230591548\n",
            "4 5644.739300537771\n",
            "3 5131.5811823070635\n",
            "2 4665.07380209733\n",
            "1 4240.976183724845\n"
          ]
        }
      ]
    },
    {
      "cell_type": "code",
      "source": [
        "list(range(10,0,-1))"
      ],
      "metadata": {
        "colab": {
          "base_uri": "https://localhost:8080/"
        },
        "outputId": "7a21a3cb-0813-42d5-c6b2-65e417b1660c",
        "id": "NdgJsrek2FPz"
      },
      "execution_count": null,
      "outputs": [
        {
          "output_type": "execute_result",
          "data": {
            "text/plain": [
              "[10, 9, 8, 7, 6, 5, 4, 3, 2, 1]"
            ]
          },
          "metadata": {},
          "execution_count": 19
        }
      ]
    },
    {
      "cell_type": "code",
      "source": [
        "len(\"rakesh\")"
      ],
      "metadata": {
        "colab": {
          "base_uri": "https://localhost:8080/"
        },
        "id": "ovDsNQiJ2s97",
        "outputId": "8a7d3ae9-7e94-471d-8a24-b7bdc35dd40c"
      },
      "execution_count": null,
      "outputs": [
        {
          "output_type": "execute_result",
          "data": {
            "text/plain": [
              "6"
            ]
          },
          "metadata": {},
          "execution_count": 20
        }
      ]
    },
    {
      "cell_type": "code",
      "source": [
        "len(\"my nameisrakesh\")"
      ],
      "metadata": {
        "colab": {
          "base_uri": "https://localhost:8080/"
        },
        "id": "pW4xNQKv2tFm",
        "outputId": "16f37a79-41d4-469a-e6ce-65abe646d0a0"
      },
      "execution_count": null,
      "outputs": [
        {
          "output_type": "execute_result",
          "data": {
            "text/plain": [
              "15"
            ]
          },
          "metadata": {},
          "execution_count": 23
        }
      ]
    },
    {
      "cell_type": "code",
      "source": [
        "l=\"abcabcmkabc\"\n",
        "len(l)"
      ],
      "metadata": {
        "colab": {
          "base_uri": "https://localhost:8080/"
        },
        "id": "XLuS1tQG2tMe",
        "outputId": "4a57db7d-f7a2-41c7-b324-7ecacc9f40ec"
      },
      "execution_count": null,
      "outputs": [
        {
          "output_type": "execute_result",
          "data": {
            "text/plain": [
              "11"
            ]
          },
          "metadata": {},
          "execution_count": 24
        }
      ]
    },
    {
      "cell_type": "code",
      "source": [
        "s=\"abc\"\n",
        "len(s)"
      ],
      "metadata": {
        "colab": {
          "base_uri": "https://localhost:8080/"
        },
        "id": "4mDXYrDA2tT7",
        "outputId": "df264c44-3d52-4eeb-ca11-d2b60d05d2d3"
      },
      "execution_count": null,
      "outputs": [
        {
          "output_type": "execute_result",
          "data": {
            "text/plain": [
              "3"
            ]
          },
          "metadata": {},
          "execution_count": 25
        }
      ]
    },
    {
      "cell_type": "code",
      "source": [
        "list(range(1,10))\n"
      ],
      "metadata": {
        "id": "IsrR8Qw92tcf",
        "colab": {
          "base_uri": "https://localhost:8080/"
        },
        "outputId": "6aec36c6-4792-470d-bed3-d57d34ca5547"
      },
      "execution_count": null,
      "outputs": [
        {
          "output_type": "execute_result",
          "data": {
            "text/plain": [
              "[1, 2, 3, 4, 5, 6, 7, 8, 9]"
            ]
          },
          "metadata": {},
          "execution_count": 27
        }
      ]
    },
    {
      "cell_type": "code",
      "source": [
        "list(range(10))"
      ],
      "metadata": {
        "id": "3VxiwYg_4D-r",
        "colab": {
          "base_uri": "https://localhost:8080/"
        },
        "outputId": "f9fe1d2d-4254-432e-d7cf-dd1f3a985061"
      },
      "execution_count": null,
      "outputs": [
        {
          "output_type": "execute_result",
          "data": {
            "text/plain": [
              "[0, 1, 2, 3, 4, 5, 6, 7, 8, 9]"
            ]
          },
          "metadata": {},
          "execution_count": 15
        }
      ]
    },
    {
      "cell_type": "code",
      "source": [
        "l=\"hello\"\n",
        "#  01234\n",
        "l[1:3]"
      ],
      "metadata": {
        "colab": {
          "base_uri": "https://localhost:8080/",
          "height": 35
        },
        "id": "2m47Gqj64lj6",
        "outputId": "3510d748-bb84-46f4-83f1-c9e515f0c0fa"
      },
      "execution_count": null,
      "outputs": [
        {
          "output_type": "execute_result",
          "data": {
            "text/plain": [
              "'el'"
            ],
            "application/vnd.google.colaboratory.intrinsic+json": {
              "type": "string"
            }
          },
          "metadata": {},
          "execution_count": 18
        }
      ]
    },
    {
      "cell_type": "code",
      "source": [
        "for i in range(10):\n",
        "  print(i)"
      ],
      "metadata": {
        "id": "fYneMGzN4lYq",
        "colab": {
          "base_uri": "https://localhost:8080/"
        },
        "outputId": "1bd28407-e168-426a-e584-3f5b448dab65"
      },
      "execution_count": null,
      "outputs": [
        {
          "output_type": "stream",
          "name": "stdout",
          "text": [
            "0\n",
            "1\n",
            "2\n",
            "3\n",
            "4\n",
            "5\n",
            "6\n",
            "7\n",
            "8\n",
            "9\n"
          ]
        }
      ]
    },
    {
      "cell_type": "code",
      "source": [
        "s='helloworld'"
      ],
      "metadata": {
        "id": "qbAjEmFEgYwZ"
      },
      "execution_count": null,
      "outputs": []
    },
    {
      "cell_type": "code",
      "source": [
        "s[start:end:jump]"
      ],
      "metadata": {
        "colab": {
          "base_uri": "https://localhost:8080/",
          "height": 35
        },
        "id": "pETbLNOWgY5X",
        "outputId": "baebfb5f-f34c-4b7e-d7e0-5595273cd590"
      },
      "execution_count": null,
      "outputs": [
        {
          "output_type": "execute_result",
          "data": {
            "text/plain": [
              "'l'"
            ],
            "application/vnd.google.colaboratory.intrinsic+json": {
              "type": "string"
            }
          },
          "metadata": {},
          "execution_count": 12
        }
      ]
    },
    {
      "cell_type": "code",
      "source": [
        "s[0::2]"
      ],
      "metadata": {
        "colab": {
          "base_uri": "https://localhost:8080/",
          "height": 35
        },
        "id": "Np8fVtj6gZCl",
        "outputId": "c4169b40-3ed7-4b6a-ba72-4364b6a07ab4"
      },
      "execution_count": null,
      "outputs": [
        {
          "output_type": "execute_result",
          "data": {
            "text/plain": [
              "'hlool'"
            ],
            "application/vnd.google.colaboratory.intrinsic+json": {
              "type": "string"
            }
          },
          "metadata": {},
          "execution_count": 14
        }
      ]
    },
    {
      "cell_type": "code",
      "source": [
        "l[0:3]"
      ],
      "metadata": {
        "colab": {
          "base_uri": "https://localhost:8080/",
          "height": 35
        },
        "id": "HdGmo7HS5GOw",
        "outputId": "5b9c6947-9d8d-4943-d6cd-3d3eb0e17f29"
      },
      "execution_count": null,
      "outputs": [
        {
          "output_type": "execute_result",
          "data": {
            "text/plain": [
              "'abc'"
            ],
            "application/vnd.google.colaboratory.intrinsic+json": {
              "type": "string"
            }
          },
          "metadata": {},
          "execution_count": 21
        }
      ]
    },
    {
      "cell_type": "code",
      "source": [
        "l=\"abcabcmkabc\"\n",
        "s=\"abc\"\n",
        "count=0\n",
        "\n",
        "for i in range(len(l)-len(s)+1):\n",
        "  if(l[i:i+len(s)]==s):\n",
        "    count=count+1\n",
        "print(count)"
      ],
      "metadata": {
        "id": "UJdeaKHUwdfl",
        "colab": {
          "base_uri": "https://localhost:8080/"
        },
        "outputId": "19b03414-7497-4720-b584-2a55cc8512bd"
      },
      "execution_count": null,
      "outputs": [
        {
          "output_type": "stream",
          "name": "stdout",
          "text": [
            "3\n"
          ]
        }
      ]
    },
    {
      "cell_type": "code",
      "source": [
        "list(range(1,10))"
      ],
      "metadata": {
        "id": "S7Bx7xWnxGAQ",
        "outputId": "15e1edc4-e842-43f8-d5f4-8f2e24621c7a",
        "colab": {
          "base_uri": "https://localhost:8080/"
        }
      },
      "execution_count": null,
      "outputs": [
        {
          "output_type": "execute_result",
          "data": {
            "text/plain": [
              "[1, 2, 3, 4, 5, 6, 7, 8, 9]"
            ]
          },
          "metadata": {},
          "execution_count": 17
        }
      ]
    },
    {
      "cell_type": "code",
      "source": [
        "# Code here\n",
        "curr_pop = 10000\n",
        "\n",
        "for i in range(10,0,-1):\n",
        "  print(curr_pop)\n",
        "  curr_pop = curr_pop*1.1"
      ],
      "metadata": {
        "colab": {
          "base_uri": "https://localhost:8080/"
        },
        "id": "E3lX11nJo41s",
        "outputId": "5e6b42a3-d31f-4c89-b6cc-0932a2a3ccf1"
      },
      "execution_count": null,
      "outputs": [
        {
          "output_type": "stream",
          "name": "stdout",
          "text": [
            "10000\n",
            "11000.0\n",
            "12100.000000000002\n",
            "13310.000000000004\n",
            "14641.000000000005\n",
            "16105.100000000008\n",
            "17715.61000000001\n",
            "19487.171000000013\n",
            "21435.888100000015\n",
            "23579.47691000002\n"
          ]
        }
      ]
    },
    {
      "cell_type": "markdown",
      "source": [
        "#Sequence sum\n",
        "1/1! + 2/2! + 3/3! + ..."
      ],
      "metadata": {
        "id": "P4TllhshVqe2"
      }
    },
    {
      "cell_type": "code",
      "source": [
        "# Code here\n",
        "\n",
        "n = int(input('enter n'))\n",
        "\n",
        "result = 0\n",
        "fact = 1\n",
        "\n",
        "for i in range(1,n+1):\n",
        "  fact = fact * i\n",
        "  result = result + i/fact\n",
        "\n",
        "print(result)\n",
        "\n",
        "\n"
      ],
      "metadata": {
        "id": "VWLRwatiVmJd",
        "colab": {
          "base_uri": "https://localhost:8080/"
        },
        "outputId": "9b58f2d1-fa0b-4a1a-e398-448b1a4867f6"
      },
      "execution_count": null,
      "outputs": [
        {
          "output_type": "stream",
          "name": "stdout",
          "text": [
            "enter n4\n",
            "2.6666666666666665\n"
          ]
        }
      ]
    },
    {
      "cell_type": "markdown",
      "source": [
        "#Nested Loops"
      ],
      "metadata": {
        "id": "sAMLA6AMV5Kc"
      }
    },
    {
      "cell_type": "code",
      "source": [
        "# Examples -> unique pairs\n",
        "\n",
        "for i in range(1,5):\n",
        "  for j in range(1,5):\n",
        "    print(i,j)"
      ],
      "metadata": {
        "id": "MuXF6VQ4V1fc",
        "colab": {
          "base_uri": "https://localhost:8080/"
        },
        "outputId": "cc017a6d-5878-4bd9-f2bd-35b8f30e6ba9"
      },
      "execution_count": null,
      "outputs": [
        {
          "output_type": "stream",
          "name": "stdout",
          "text": [
            "1 1\n",
            "1 2\n",
            "1 3\n",
            "1 4\n",
            "2 1\n",
            "2 2\n",
            "2 3\n",
            "2 4\n",
            "3 1\n",
            "3 2\n",
            "3 3\n",
            "3 4\n",
            "4 1\n",
            "4 2\n",
            "4 3\n",
            "4 4\n"
          ]
        }
      ]
    },
    {
      "cell_type": "markdown",
      "source": [
        "#Pattern 1\n",
        "*\n",
        "\n",
        "**\n",
        "\n",
        "\n",
        "***\n"
      ],
      "metadata": {
        "id": "CdabANReWHjj"
      }
    },
    {
      "cell_type": "code",
      "source": [
        "# code here\n",
        "\n",
        "rows = int(input('enter number of rows '))\n",
        "\n",
        "for i in range(1,rows+1):\n",
        "  for j in range(1,i+1):\n",
        "    print('*',end='')\n",
        "  print()\n"
      ],
      "metadata": {
        "id": "bZPHgQjHWAej",
        "colab": {
          "base_uri": "https://localhost:8080/"
        },
        "outputId": "461f9ede-203f-4dc0-9a8c-2d3ed629c559"
      },
      "execution_count": null,
      "outputs": [
        {
          "output_type": "stream",
          "name": "stdout",
          "text": [
            "enter number of rows 5\n",
            "*\n",
            "**\n",
            "***\n",
            "****\n",
            "*****\n"
          ]
        }
      ]
    },
    {
      "cell_type": "code",
      "source": [
        "for i in range(1,2):\n",
        "  print(\"*\")"
      ],
      "metadata": {
        "colab": {
          "base_uri": "https://localhost:8080/"
        },
        "id": "NcZ7yea4s9Nn",
        "outputId": "2bcad396-5f67-4ff0-fa05-12b56bbd18a4"
      },
      "execution_count": null,
      "outputs": [
        {
          "output_type": "stream",
          "name": "stdout",
          "text": [
            "*\n"
          ]
        }
      ]
    },
    {
      "cell_type": "markdown",
      "source": [
        "#Pattern 2\n",
        "1\n",
        "\n",
        "121\n",
        "\n",
        "12321\n",
        "\n",
        "1234321"
      ],
      "metadata": {
        "id": "BGyUqv8FWgJz"
      }
    },
    {
      "cell_type": "code",
      "source": [
        "# Code here\n",
        "rows = int(input('enter number of rows'))\n",
        "\n",
        "for i in range(1,rows+1):\n",
        "  for j in range(1,i+1):\n",
        "    print(j,end='')\n",
        "  for k in range(i-1,0,-1):\n",
        "    print(k,end='')\n",
        "\n",
        "  print()\n"
      ],
      "metadata": {
        "id": "Lo8_ZX_dWWWr",
        "colab": {
          "base_uri": "https://localhost:8080/"
        },
        "outputId": "73f43285-ed65-49a7-adca-e10d772edd92"
      },
      "execution_count": null,
      "outputs": [
        {
          "output_type": "stream",
          "name": "stdout",
          "text": [
            "enter number of rows7\n",
            "1\n",
            "121\n",
            "12321\n",
            "1234321\n",
            "123454321\n",
            "12345654321\n",
            "1234567654321\n"
          ]
        }
      ]
    },
    {
      "cell_type": "markdown",
      "source": [
        "#Loop Control Statement\n",
        "Break\n",
        "\n",
        "Continue\n",
        "\n",
        "Pass"
      ],
      "metadata": {
        "id": "TCwGVKDzWseE"
      }
    },
    {
      "cell_type": "code",
      "source": [
        "# Example: Find the first occurrence of a number greater than 5 in a list\n",
        "numbers = [1, 3, 7, 2, 4, 9, 8, 6]\n",
        "\n",
        "for num in numbers:\n",
        "    if num > 5:\n",
        "        print(f\"First number greater than 5 found: {num}\")\n",
        "        break\n"
      ],
      "metadata": {
        "colab": {
          "base_uri": "https://localhost:8080/"
        },
        "id": "2fmbT6EP6n8M",
        "outputId": "4a37a28c-1e7c-4fa7-b3a2-90c4dc240491"
      },
      "execution_count": null,
      "outputs": [
        {
          "output_type": "stream",
          "name": "stdout",
          "text": [
            "First number greater than 5 found: 7\n"
          ]
        }
      ]
    },
    {
      "cell_type": "code",
      "source": [
        "l=5\n",
        "if l>10:\n",
        "  print(\"any thing\")\n",
        "elif l>6:\n",
        "  pass\n",
        "else:\n",
        "  pass"
      ],
      "metadata": {
        "id": "5vosaIAbDR3r"
      },
      "execution_count": null,
      "outputs": []
    },
    {
      "cell_type": "code",
      "source": [
        "for i in range(1,10):\n",
        "  if i==5:\n",
        "    continue\n",
        "  print(i)\n",
        "\n"
      ],
      "metadata": {
        "colab": {
          "base_uri": "https://localhost:8080/"
        },
        "id": "1Cn3Orn6ES4u",
        "outputId": "3f1a751e-3ef4-45a1-b782-a1919f6c9ee6"
      },
      "execution_count": null,
      "outputs": [
        {
          "output_type": "stream",
          "name": "stdout",
          "text": [
            "1\n",
            "2\n",
            "3\n",
            "4\n",
            "6\n",
            "7\n",
            "8\n",
            "9\n"
          ]
        }
      ]
    },
    {
      "cell_type": "code",
      "source": [
        "# Example: Print only even numbers from a list\n",
        "numbers = [1, 2, 3, 4, 5, 6, 7, 8, 9]\n",
        "\n",
        "for num in numbers:\n",
        "    if num % 2 == 0:\n",
        "        continue\n",
        "    print(f\"Even number: {num}\")\n"
      ],
      "metadata": {
        "colab": {
          "base_uri": "https://localhost:8080/"
        },
        "id": "fXwGWF026vcE",
        "outputId": "0b32cef8-dc3e-4a71-da64-8f2134f40db2"
      },
      "execution_count": null,
      "outputs": [
        {
          "output_type": "stream",
          "name": "stdout",
          "text": [
            "Even number: 1\n",
            "Even number: 3\n",
            "Even number: 5\n",
            "Even number: 7\n",
            "Even number: 9\n"
          ]
        }
      ]
    },
    {
      "cell_type": "code",
      "source": [
        "# Example: Check if a number is positive, negative, or zero\n",
        "number = 7\n",
        "\n",
        "if number > 0:\n",
        "    print(\"Positive number\")\n",
        "elif number < 0:\n",
        "    print(\"Negative number\")\n",
        "else:\n",
        "    pass  # Placeholder; no action needed for zero\n"
      ],
      "metadata": {
        "colab": {
          "base_uri": "https://localhost:8080/"
        },
        "id": "FWqxMana61bK",
        "outputId": "db134aa0-a96b-4324-e991-1b5915ee06ba"
      },
      "execution_count": null,
      "outputs": [
        {
          "output_type": "stream",
          "name": "stdout",
          "text": [
            "Positive number\n"
          ]
        }
      ]
    },
    {
      "cell_type": "code",
      "source": [
        "for i in range(1,10):\n",
        "  if i == 6:\n",
        "    continue\n",
        "  print(i)"
      ],
      "metadata": {
        "id": "4-dx3KVtWorc",
        "colab": {
          "base_uri": "https://localhost:8080/"
        },
        "outputId": "e895c59e-801f-43e2-c526-daef46b46a09"
      },
      "execution_count": null,
      "outputs": [
        {
          "output_type": "stream",
          "name": "stdout",
          "text": [
            "1\n",
            "2\n",
            "3\n",
            "4\n",
            "5\n",
            "7\n",
            "8\n",
            "9\n"
          ]
        }
      ]
    },
    {
      "cell_type": "code",
      "source": [
        "lower = int(input('enter lower range'))\n",
        "upper = int(input('enter upper range'))\n",
        "\n",
        "for i in range(1,19):\n",
        "  for j in range(2,i):\n",
        "    if i%j == 0:\n",
        "      break\n",
        "  else:\n",
        "    print(i)"
      ],
      "metadata": {
        "id": "eu-wOgZ9W1_z",
        "colab": {
          "base_uri": "https://localhost:8080/"
        },
        "outputId": "8801cee1-4cfe-49d6-b560-49533a041500"
      },
      "execution_count": null,
      "outputs": [
        {
          "output_type": "stream",
          "name": "stdout",
          "text": [
            "enter lower range1\n",
            "enter upper range20\n",
            "1\n",
            "2\n",
            "3\n",
            "5\n",
            "7\n",
            "11\n",
            "13\n",
            "17\n",
            "19\n"
          ]
        }
      ]
    },
    {
      "cell_type": "code",
      "source": [
        "# Continue\n",
        "for i in range(1,10):\n",
        "  if i == 5:\n",
        "    continue\n",
        "  print(i)"
      ],
      "metadata": {
        "id": "y-NH6GjQW4aj",
        "colab": {
          "base_uri": "https://localhost:8080/"
        },
        "outputId": "2a2e952a-2083-4efd-ec9e-a2fc57c0fc15"
      },
      "execution_count": null,
      "outputs": [
        {
          "output_type": "stream",
          "name": "stdout",
          "text": [
            "1\n",
            "2\n",
            "3\n",
            "4\n",
            "6\n",
            "7\n",
            "8\n",
            "9\n"
          ]
        }
      ]
    },
    {
      "cell_type": "code",
      "source": [
        "for i in range(1,10):\n",
        "  pass\n",
        "  print(i)\n"
      ],
      "metadata": {
        "id": "ZKycYGPWXQAd",
        "colab": {
          "base_uri": "https://localhost:8080/"
        },
        "outputId": "c6b66488-3c0f-4e9e-92c0-e641d207cf99"
      },
      "execution_count": null,
      "outputs": [
        {
          "output_type": "stream",
          "name": "stdout",
          "text": [
            "1\n",
            "2\n",
            "3\n",
            "4\n",
            "5\n",
            "6\n",
            "7\n",
            "8\n",
            "9\n"
          ]
        }
      ]
    },
    {
      "cell_type": "markdown",
      "source": [
        "#Strings are sequence of Characters\n",
        "\n",
        "In Python specifically, strings are a sequence of Unicode Characters\n",
        "\n",
        "Creating Strings\n",
        "\n",
        "Accessing Strings\n",
        "\n",
        "Adding Chars to Strings\n",
        "\n",
        "Editing Strings\n",
        "\n",
        "Deleting Strings\n",
        "\n",
        "Operations on Strings\n",
        "\n",
        "String Functions"
      ],
      "metadata": {
        "id": "Yk9e-kCZXepM"
      }
    },
    {
      "cell_type": "markdown",
      "source": [
        "#Creating Stings"
      ],
      "metadata": {
        "id": "wb6RgPi4XxWM"
      }
    },
    {
      "cell_type": "code",
      "source": [
        "s = 'hello'\n",
        "s = \"hello\"\n",
        "# multiline strings\n",
        "s = '''hello'''\n",
        "s = \"\"\"hello\"\"\"\n",
        "s = str(7)\n",
        "print(s)"
      ],
      "metadata": {
        "id": "6xB6iv_5X3vc",
        "colab": {
          "base_uri": "https://localhost:8080/"
        },
        "outputId": "8a89fe2e-c9d2-4653-9cac-3ef550c0fe5a"
      },
      "execution_count": null,
      "outputs": [
        {
          "output_type": "stream",
          "name": "stdout",
          "text": [
            "7\n"
          ]
        }
      ]
    },
    {
      "cell_type": "markdown",
      "source": [
        "#Accessing Substrings from a String"
      ],
      "metadata": {
        "id": "r2YYfCaKYBO0"
      }
    },
    {
      "cell_type": "code",
      "source": [
        "# Positive Indexing\n",
        "s = 'hello world'\n",
        "\n",
        "\n",
        "print(s[0])"
      ],
      "metadata": {
        "id": "-V-E20fjYDXK",
        "colab": {
          "base_uri": "https://localhost:8080/"
        },
        "outputId": "272711fa-5dcb-4733-bd93-649e20f9f54a"
      },
      "execution_count": null,
      "outputs": [
        {
          "output_type": "stream",
          "name": "stdout",
          "text": [
            "h\n"
          ]
        }
      ]
    },
    {
      "cell_type": "code",
      "source": [
        "# Negative Indexing\n",
        "s = 'hello world'\n",
        "print(s[-2])"
      ],
      "metadata": {
        "id": "ryGPJC1HYGEj",
        "colab": {
          "base_uri": "https://localhost:8080/"
        },
        "outputId": "4adae967-bd83-4ba1-c710-246b1eeec389"
      },
      "execution_count": null,
      "outputs": [
        {
          "output_type": "stream",
          "name": "stdout",
          "text": [
            "l\n"
          ]
        }
      ]
    },
    {
      "cell_type": "code",
      "source": [
        "# Slicing\n",
        "s = 'hello world'\n",
        "\n",
        "\n",
        "print(s[0:7])\n",
        "\n"
      ],
      "metadata": {
        "id": "nrd9WqNzYLJj",
        "colab": {
          "base_uri": "https://localhost:8080/"
        },
        "outputId": "eb342d63-1ba6-49be-f610-65d913b0561e"
      },
      "execution_count": null,
      "outputs": [
        {
          "output_type": "stream",
          "name": "stdout",
          "text": [
            "hello w\n"
          ]
        }
      ]
    },
    {
      "cell_type": "code",
      "source": [
        "s[:]"
      ],
      "metadata": {
        "colab": {
          "base_uri": "https://localhost:8080/",
          "height": 36
        },
        "id": "4MKOT57hGv5Z",
        "outputId": "22f7b6b4-a068-46af-8510-3c400ac094d1"
      },
      "execution_count": null,
      "outputs": [
        {
          "output_type": "execute_result",
          "data": {
            "text/plain": [
              "'hello world'"
            ],
            "application/vnd.google.colaboratory.intrinsic+json": {
              "type": "string"
            }
          },
          "metadata": {},
          "execution_count": 56
        }
      ]
    },
    {
      "cell_type": "code",
      "source": [
        "s[::3]"
      ],
      "metadata": {
        "colab": {
          "base_uri": "https://localhost:8080/",
          "height": 36
        },
        "id": "TlZn1FuDFRhx",
        "outputId": "6cb61cb3-1d95-426b-8a12-bb14239425f5"
      },
      "execution_count": null,
      "outputs": [
        {
          "output_type": "execute_result",
          "data": {
            "text/plain": [
              "'hlwl'"
            ],
            "application/vnd.google.colaboratory.intrinsic+json": {
              "type": "string"
            }
          },
          "metadata": {},
          "execution_count": 57
        }
      ]
    },
    {
      "cell_type": "code",
      "source": [
        "# s[start:end:jump]"
      ],
      "metadata": {
        "colab": {
          "base_uri": "https://localhost:8080/",
          "height": 35
        },
        "id": "c-xyUezFAHOg",
        "outputId": "86d81c86-cc3d-45ea-8f72-d07895d46f8b"
      },
      "execution_count": null,
      "outputs": [
        {
          "output_type": "execute_result",
          "data": {
            "text/plain": [
              "'hlwl'"
            ],
            "application/vnd.google.colaboratory.intrinsic+json": {
              "type": "string"
            }
          },
          "metadata": {},
          "execution_count": 78
        }
      ]
    },
    {
      "cell_type": "code",
      "source": [
        "print(s[-1:0:-2])"
      ],
      "metadata": {
        "id": "r8f0DlbxYe-b",
        "colab": {
          "base_uri": "https://localhost:8080/"
        },
        "outputId": "2c415a80-48f8-4faa-f965-04f58f11893c"
      },
      "execution_count": null,
      "outputs": [
        {
          "output_type": "stream",
          "name": "stdout",
          "text": [
            "drwol\n"
          ]
        }
      ]
    },
    {
      "cell_type": "code",
      "source": [
        "s[:]"
      ],
      "metadata": {
        "colab": {
          "base_uri": "https://localhost:8080/",
          "height": 36
        },
        "id": "xTwW6_sXHG3O",
        "outputId": "c4a425c2-f667-42ba-fac9-871fc89cc820"
      },
      "execution_count": null,
      "outputs": [
        {
          "output_type": "execute_result",
          "data": {
            "text/plain": [
              "'hello world'"
            ],
            "application/vnd.google.colaboratory.intrinsic+json": {
              "type": "string"
            }
          },
          "metadata": {},
          "execution_count": 59
        }
      ]
    },
    {
      "cell_type": "code",
      "source": [
        "s[::-1]"
      ],
      "metadata": {
        "colab": {
          "base_uri": "https://localhost:8080/",
          "height": 36
        },
        "id": "dG7NDaMbHKIH",
        "outputId": "f753edcb-95d9-42b0-fa34-8ce9b80068d1"
      },
      "execution_count": null,
      "outputs": [
        {
          "output_type": "execute_result",
          "data": {
            "text/plain": [
              "'dlrow olleh'"
            ],
            "application/vnd.google.colaboratory.intrinsic+json": {
              "type": "string"
            }
          },
          "metadata": {},
          "execution_count": 60
        }
      ]
    },
    {
      "cell_type": "code",
      "source": [
        "s = 'hello world'\n",
        "print(s[-1:-6:-1])"
      ],
      "metadata": {
        "id": "T1AZszruYsob",
        "colab": {
          "base_uri": "https://localhost:8080/"
        },
        "outputId": "1f02af58-e4bc-491f-dc09-4cbb2a4e018f"
      },
      "execution_count": null,
      "outputs": [
        {
          "output_type": "stream",
          "name": "stdout",
          "text": [
            "dlrow\n"
          ]
        }
      ]
    },
    {
      "cell_type": "markdown",
      "source": [
        "## Editing and Deleting in Strings"
      ],
      "metadata": {
        "id": "c_OL1SWfkOA0"
      }
    },
    {
      "cell_type": "code",
      "source": [
        "s = 'hello world'\n",
        "s= \"Hello world\"\n",
        "s\n",
        "\n",
        "# Python strings are immutable"
      ],
      "metadata": {
        "id": "6Gup3g9ZkPhD",
        "colab": {
          "base_uri": "https://localhost:8080/",
          "height": 36
        },
        "outputId": "82cc04bb-4725-4645-d77a-9df9e8ca7515"
      },
      "execution_count": null,
      "outputs": [
        {
          "output_type": "execute_result",
          "data": {
            "text/plain": [
              "'Hello world'"
            ],
            "application/vnd.google.colaboratory.intrinsic+json": {
              "type": "string"
            }
          },
          "metadata": {},
          "execution_count": 65
        }
      ]
    },
    {
      "cell_type": "code",
      "source": [
        "s = 'hello world'\n",
        "del s\n",
        "print(s)"
      ],
      "metadata": {
        "id": "m_oGPtsfkRzs",
        "colab": {
          "base_uri": "https://localhost:8080/",
          "height": 210
        },
        "outputId": "7c444b6a-e225-49d6-a40e-dfc5c07494e5"
      },
      "execution_count": null,
      "outputs": [
        {
          "output_type": "error",
          "ename": "NameError",
          "evalue": "ignored",
          "traceback": [
            "\u001b[0;31m---------------------------------------------------------------------------\u001b[0m",
            "\u001b[0;31mNameError\u001b[0m                                 Traceback (most recent call last)",
            "\u001b[0;32m<ipython-input-64-9ae37fbf1c6c>\u001b[0m in \u001b[0;36m<cell line: 3>\u001b[0;34m()\u001b[0m\n\u001b[1;32m      1\u001b[0m \u001b[0ms\u001b[0m \u001b[0;34m=\u001b[0m \u001b[0;34m'hello world'\u001b[0m\u001b[0;34m\u001b[0m\u001b[0;34m\u001b[0m\u001b[0m\n\u001b[1;32m      2\u001b[0m \u001b[0;32mdel\u001b[0m \u001b[0ms\u001b[0m\u001b[0;34m\u001b[0m\u001b[0;34m\u001b[0m\u001b[0m\n\u001b[0;32m----> 3\u001b[0;31m \u001b[0mprint\u001b[0m\u001b[0;34m(\u001b[0m\u001b[0ms\u001b[0m\u001b[0;34m)\u001b[0m\u001b[0;34m\u001b[0m\u001b[0;34m\u001b[0m\u001b[0m\n\u001b[0m",
            "\u001b[0;31mNameError\u001b[0m: name 's' is not defined"
          ]
        }
      ]
    },
    {
      "cell_type": "code",
      "source": [
        "s = 'hello world'\n",
        "del s[-1:-5:2]\n",
        "print(s)"
      ],
      "metadata": {
        "id": "p7toS-uKkTbz",
        "colab": {
          "base_uri": "https://localhost:8080/",
          "height": 210
        },
        "outputId": "1d321fa2-12e7-46bf-f984-23043a7e75d2"
      },
      "execution_count": null,
      "outputs": [
        {
          "output_type": "error",
          "ename": "TypeError",
          "evalue": "ignored",
          "traceback": [
            "\u001b[0;31m---------------------------------------------------------------------------\u001b[0m",
            "\u001b[0;31mTypeError\u001b[0m                                 Traceback (most recent call last)",
            "\u001b[0;32m<ipython-input-66-d0d823eafb6b>\u001b[0m in \u001b[0;36m<cell line: 2>\u001b[0;34m()\u001b[0m\n\u001b[1;32m      1\u001b[0m \u001b[0ms\u001b[0m \u001b[0;34m=\u001b[0m \u001b[0;34m'hello world'\u001b[0m\u001b[0;34m\u001b[0m\u001b[0;34m\u001b[0m\u001b[0m\n\u001b[0;32m----> 2\u001b[0;31m \u001b[0;32mdel\u001b[0m \u001b[0ms\u001b[0m\u001b[0;34m[\u001b[0m\u001b[0;34m-\u001b[0m\u001b[0;36m1\u001b[0m\u001b[0;34m:\u001b[0m\u001b[0;34m-\u001b[0m\u001b[0;36m5\u001b[0m\u001b[0;34m:\u001b[0m\u001b[0;36m2\u001b[0m\u001b[0;34m]\u001b[0m\u001b[0;34m\u001b[0m\u001b[0;34m\u001b[0m\u001b[0m\n\u001b[0m\u001b[1;32m      3\u001b[0m \u001b[0mprint\u001b[0m\u001b[0;34m(\u001b[0m\u001b[0ms\u001b[0m\u001b[0;34m)\u001b[0m\u001b[0;34m\u001b[0m\u001b[0;34m\u001b[0m\u001b[0m\n",
            "\u001b[0;31mTypeError\u001b[0m: 'str' object does not support item deletion"
          ]
        }
      ]
    },
    {
      "cell_type": "code",
      "source": [
        "# string is immutable in nature which means we cannot edit a string"
      ],
      "metadata": {
        "colab": {
          "base_uri": "https://localhost:8080/",
          "height": 181
        },
        "id": "4QKTWBWVBNhP",
        "outputId": "ed7d683f-6845-4cde-d41c-6d56e827ce35"
      },
      "execution_count": null,
      "outputs": [
        {
          "output_type": "error",
          "ename": "NameError",
          "evalue": "ignored",
          "traceback": [
            "\u001b[0;31m---------------------------------------------------------------------------\u001b[0m",
            "\u001b[0;31mNameError\u001b[0m                                 Traceback (most recent call last)",
            "\u001b[0;32m<ipython-input-78-0ff1b7208845>\u001b[0m in \u001b[0;36m<cell line: 1>\u001b[0;34m()\u001b[0m\n\u001b[0;32m----> 1\u001b[0;31m \u001b[0mprint\u001b[0m\u001b[0;34m(\u001b[0m\u001b[0ms\u001b[0m\u001b[0;34m)\u001b[0m\u001b[0;34m\u001b[0m\u001b[0;34m\u001b[0m\u001b[0m\n\u001b[0m",
            "\u001b[0;31mNameError\u001b[0m: name 's' is not defined"
          ]
        }
      ]
    },
    {
      "cell_type": "markdown",
      "source": [
        "## Operations on Strings\n",
        "\n",
        "- Arithmetic Operations\n",
        "- Relational Operations\n",
        "- Logical Operations\n",
        "- Loops on Strings\n",
        "- Membership Operations"
      ],
      "metadata": {
        "id": "RCBttUcpkXLx"
      }
    },
    {
      "cell_type": "code",
      "source": [
        "print('mumbai' + ' ' + 'hello')"
      ],
      "metadata": {
        "id": "H5HxAdtOkXli",
        "colab": {
          "base_uri": "https://localhost:8080/"
        },
        "outputId": "4d3abfa1-980a-49c1-f8b1-8ff654fd5af3"
      },
      "execution_count": null,
      "outputs": [
        {
          "output_type": "stream",
          "name": "stdout",
          "text": [
            "mumbai hello\n"
          ]
        }
      ]
    },
    {
      "cell_type": "code",
      "source": [
        "print('delhi mumbai')"
      ],
      "metadata": {
        "colab": {
          "base_uri": "https://localhost:8080/"
        },
        "id": "PTfYrP7V-kC5",
        "outputId": "9816f24f-2adc-4667-8fe6-7828d0b887e3"
      },
      "execution_count": null,
      "outputs": [
        {
          "output_type": "stream",
          "name": "stdout",
          "text": [
            "delhi mumbai\n"
          ]
        }
      ]
    },
    {
      "cell_type": "code",
      "source": [
        "print('goa '*4)"
      ],
      "metadata": {
        "id": "2Y1dk11TkaTx",
        "colab": {
          "base_uri": "https://localhost:8080/"
        },
        "outputId": "69d88ca8-750a-41ae-eaa4-7ed8e6e9fcd8"
      },
      "execution_count": null,
      "outputs": [
        {
          "output_type": "stream",
          "name": "stdout",
          "text": [
            "goa goa goa goa \n"
          ]
        }
      ]
    },
    {
      "cell_type": "code",
      "source": [
        "print('delhi '* 6)"
      ],
      "metadata": {
        "colab": {
          "base_uri": "https://localhost:8080/"
        },
        "id": "2H9yED--_RXv",
        "outputId": "ad64e694-74c6-4726-c640-edb9dc4c5109"
      },
      "execution_count": null,
      "outputs": [
        {
          "output_type": "stream",
          "name": "stdout",
          "text": [
            "delhi delhi delhi delhi delhi delhi \n"
          ]
        }
      ]
    },
    {
      "cell_type": "code",
      "source": [
        "print(\"*\"*50)"
      ],
      "metadata": {
        "id": "jTShjNs6kbvh",
        "colab": {
          "base_uri": "https://localhost:8080/"
        },
        "outputId": "e8412bfc-35ec-45c5-a37e-464f63a04e7d"
      },
      "execution_count": null,
      "outputs": [
        {
          "output_type": "stream",
          "name": "stdout",
          "text": [
            "**************************************************\n"
          ]
        }
      ]
    },
    {
      "cell_type": "code",
      "source": [
        "'Delhi' == 'delhi'"
      ],
      "metadata": {
        "id": "4DSMxwtykdJy",
        "colab": {
          "base_uri": "https://localhost:8080/"
        },
        "outputId": "19a69b5a-6ed6-4501-f641-ca51a48780f6"
      },
      "execution_count": null,
      "outputs": [
        {
          "output_type": "execute_result",
          "data": {
            "text/plain": [
              "False"
            ]
          },
          "metadata": {},
          "execution_count": 73
        }
      ]
    },
    {
      "cell_type": "code",
      "source": [
        "s=\"this/is/my/python/class\"\n",
        "s.split(\"/\")"
      ],
      "metadata": {
        "colab": {
          "base_uri": "https://localhost:8080/"
        },
        "id": "FOK_JOR7CQVy",
        "outputId": "41f703ea-6b9a-4959-b6e3-7f8acc67ae1a"
      },
      "execution_count": null,
      "outputs": [
        {
          "output_type": "execute_result",
          "data": {
            "text/plain": [
              "['this', 'is', 'my', 'python', 'class']"
            ]
          },
          "metadata": {},
          "execution_count": 79
        }
      ]
    },
    {
      "cell_type": "code",
      "source": [
        "l=\"my name is rakesh\"\n",
        "len(l.split())"
      ],
      "metadata": {
        "colab": {
          "base_uri": "https://localhost:8080/"
        },
        "id": "Uq20npa3CQPZ",
        "outputId": "bedaa9bf-32a0-4fa5-b762-fd1a907318b1"
      },
      "execution_count": null,
      "outputs": [
        {
          "output_type": "execute_result",
          "data": {
            "text/plain": [
              "4"
            ]
          },
          "metadata": {},
          "execution_count": 80
        }
      ]
    },
    {
      "cell_type": "code",
      "source": [
        "for i in \"hello\":\n",
        "  print(i)"
      ],
      "metadata": {
        "colab": {
          "base_uri": "https://localhost:8080/"
        },
        "id": "7vVlqfxtImnT",
        "outputId": "b645e08e-b578-44f1-eef2-d81be19bcaf8"
      },
      "execution_count": null,
      "outputs": [
        {
          "output_type": "stream",
          "name": "stdout",
          "text": [
            "h\n",
            "e\n",
            "l\n",
            "l\n",
            "o\n"
          ]
        }
      ]
    },
    {
      "cell_type": "code",
      "source": [
        "c=0\n",
        "for i in \"hello\":\n",
        "    c=c+1\n",
        "\n",
        "print(c)"
      ],
      "metadata": {
        "colab": {
          "base_uri": "https://localhost:8080/"
        },
        "id": "BPdZNVbKEBQp",
        "outputId": "9ba0e084-3f4e-4d59-bc78-0a7a9bc9b3bb"
      },
      "execution_count": null,
      "outputs": [
        {
          "output_type": "stream",
          "name": "stdout",
          "text": [
            "5\n"
          ]
        }
      ]
    },
    {
      "cell_type": "code",
      "source": [
        "count=3\n",
        "count=count+1\n",
        "count=3+1\n",
        "4"
      ],
      "metadata": {
        "id": "4DU4L43CEBCQ"
      },
      "execution_count": null,
      "outputs": []
    },
    {
      "cell_type": "code",
      "source": [
        "len(\"hi\")"
      ],
      "metadata": {
        "colab": {
          "base_uri": "https://localhost:8080/"
        },
        "id": "KTAgkYcZCQIV",
        "outputId": "db0aa97d-62ec-4f72-c143-1ff6f43d32c4"
      },
      "execution_count": null,
      "outputs": [
        {
          "output_type": "execute_result",
          "data": {
            "text/plain": [
              "2"
            ]
          },
          "metadata": {},
          "execution_count": 102
        }
      ]
    },
    {
      "cell_type": "code",
      "source": [
        "data = \"apple,orange,banana\"\n",
        "fruits = data.split(',')\n",
        "print(fruits)\n",
        "# Output: ['apple', 'orange', 'banana']\n"
      ],
      "metadata": {
        "colab": {
          "base_uri": "https://localhost:8080/"
        },
        "id": "Zzw36-uex4qG",
        "outputId": "e8da4ab1-a577-4043-8086-22e6a59ab6d5"
      },
      "execution_count": null,
      "outputs": [
        {
          "output_type": "stream",
          "name": "stdout",
          "text": [
            "['apple', 'orange', 'banana']\n"
          ]
        }
      ]
    },
    {
      "cell_type": "code",
      "source": [
        "l=\"my name is rakesh and is  is is am student\"\n",
        "count=0\n",
        "m=l.split()\n",
        "for i in m:\n",
        "  if(i==\"is\"):\n",
        "    count=count+1\n",
        "count"
      ],
      "metadata": {
        "colab": {
          "base_uri": "https://localhost:8080/"
        },
        "id": "6EhymFb-ASb-",
        "outputId": "22c3e45b-79bd-4c40-f942-578ab00aebda"
      },
      "execution_count": null,
      "outputs": [
        {
          "output_type": "execute_result",
          "data": {
            "text/plain": [
              "4"
            ]
          },
          "metadata": {},
          "execution_count": 85
        }
      ]
    },
    {
      "cell_type": "code",
      "source": [
        "sentence = \"This is a sample sentence for the split\"\n",
        "words = sentence.split(' ', 5)\n",
        "print(words)\n",
        "# Output: ['This', 'is', 'a', 'sample sentence.']\n"
      ],
      "metadata": {
        "colab": {
          "base_uri": "https://localhost:8080/"
        },
        "id": "2LbrMN-uyPAA",
        "outputId": "2f16997f-709a-4879-bfa7-18046c19419a"
      },
      "execution_count": null,
      "outputs": [
        {
          "output_type": "stream",
          "name": "stdout",
          "text": [
            "['This', 'is', 'a', 'sample', 'sentence', 'for the split']\n"
          ]
        }
      ]
    },
    {
      "cell_type": "code",
      "source": [
        "multiline_text = \"Line 1\\nLine 2\\nLine 3\"\n",
        "lines = multiline_text.split('e')\n",
        "print(lines)\n",
        "# Output: ['Line 1', 'Line 2', 'Line 3']\n"
      ],
      "metadata": {
        "colab": {
          "base_uri": "https://localhost:8080/"
        },
        "id": "AJCAXzCOyfKG",
        "outputId": "b3c15f1d-3562-40da-b86b-1a0f738d8b04"
      },
      "execution_count": null,
      "outputs": [
        {
          "output_type": "stream",
          "name": "stdout",
          "text": [
            "['Lin', ' 1\\nLin', ' 2\\nLin', ' 3']\n"
          ]
        }
      ]
    },
    {
      "cell_type": "code",
      "source": [
        "s=[1,2,3,4,5]\n",
        "\n",
        "for i in s:\n",
        "  print(i)\n"
      ],
      "metadata": {
        "colab": {
          "base_uri": "https://localhost:8080/"
        },
        "id": "wuG9iS_tLZ39",
        "outputId": "cc8328d9-0372-4182-8677-079ecbac544e"
      },
      "execution_count": null,
      "outputs": [
        {
          "output_type": "stream",
          "name": "stdout",
          "text": [
            "1\n",
            "2\n",
            "3\n",
            "4\n",
            "5\n"
          ]
        }
      ]
    },
    {
      "cell_type": "code",
      "source": [
        "l=\"my name is rakesh and i am student\"\n",
        "count=0\n",
        "for i in l:\n",
        "  if(i==\"m\"):\n",
        "    count=count+1\n",
        "count"
      ],
      "metadata": {
        "colab": {
          "base_uri": "https://localhost:8080/"
        },
        "id": "ka_xp4vHA1Tc",
        "outputId": "683fa2d7-c96d-42a4-e9e0-155222a5163d"
      },
      "execution_count": null,
      "outputs": [
        {
          "output_type": "execute_result",
          "data": {
            "text/plain": [
              "3"
            ]
          },
          "metadata": {},
          "execution_count": 92
        }
      ]
    },
    {
      "cell_type": "code",
      "source": [
        "'a' < 'b'\n",
        "# lexiographically"
      ],
      "metadata": {
        "id": "hjCOvG-ykfQR",
        "colab": {
          "base_uri": "https://localhost:8080/"
        },
        "outputId": "b4a18c89-9e07-4005-e6e1-a3780d0b1560"
      },
      "execution_count": null,
      "outputs": [
        {
          "output_type": "execute_result",
          "data": {
            "text/plain": [
              "True"
            ]
          },
          "metadata": {},
          "execution_count": 96
        }
      ]
    },
    {
      "cell_type": "code",
      "source": [
        "'Pune' < 'pune'\n",
        "\n"
      ],
      "metadata": {
        "id": "VzRWFaGYkhLJ",
        "colab": {
          "base_uri": "https://localhost:8080/"
        },
        "outputId": "38133c3e-d8f1-4944-f011-fd93134f6367"
      },
      "execution_count": null,
      "outputs": [
        {
          "output_type": "execute_result",
          "data": {
            "text/plain": [
              "True"
            ]
          },
          "metadata": {},
          "execution_count": 95
        }
      ]
    },
    {
      "cell_type": "markdown",
      "source": [
        "**For the 'and' operator if the left value is true, then the right value is checked and returned. If the left value is false, then it is returned. For the 'or' operator if the left value is true, then it is returned,\n",
        "otherwise, if the left value is false, then the right value is returned.**"
      ],
      "metadata": {
        "id": "SjW-3MD7y54s"
      }
    },
    {
      "cell_type": "code",
      "source": [
        "'hello' and 'world'\n"
      ],
      "metadata": {
        "id": "zFMJeZFbkkBj",
        "colab": {
          "base_uri": "https://localhost:8080/",
          "height": 36
        },
        "outputId": "56d470f6-f0a7-4dd3-a975-f56432bf40ed"
      },
      "execution_count": null,
      "outputs": [
        {
          "output_type": "execute_result",
          "data": {
            "text/plain": [
              "'world'"
            ],
            "application/vnd.google.colaboratory.intrinsic+json": {
              "type": "string"
            }
          },
          "metadata": {},
          "execution_count": 98
        }
      ]
    },
    {
      "cell_type": "code",
      "source": [
        "'hello' or 'world'"
      ],
      "metadata": {
        "id": "-JwQ1TfIkkJ7",
        "colab": {
          "base_uri": "https://localhost:8080/",
          "height": 35
        },
        "outputId": "82185039-d23b-4a90-b809-8d2491e1d730"
      },
      "execution_count": null,
      "outputs": [
        {
          "output_type": "execute_result",
          "data": {
            "text/plain": [
              "'hello'"
            ],
            "application/vnd.google.colaboratory.intrinsic+json": {
              "type": "string"
            }
          },
          "metadata": {},
          "execution_count": 112
        }
      ]
    },
    {
      "cell_type": "code",
      "source": [
        "'' and 'world'"
      ],
      "metadata": {
        "id": "I0ehILwmkkS6",
        "colab": {
          "base_uri": "https://localhost:8080/",
          "height": 35
        },
        "outputId": "74ce04e3-bc5c-436e-9ec9-24608658a237"
      },
      "execution_count": null,
      "outputs": [
        {
          "output_type": "execute_result",
          "data": {
            "text/plain": [
              "''"
            ],
            "application/vnd.google.colaboratory.intrinsic+json": {
              "type": "string"
            }
          },
          "metadata": {},
          "execution_count": 113
        }
      ]
    },
    {
      "cell_type": "code",
      "source": [
        "'' or 'world'"
      ],
      "metadata": {
        "id": "rfojVDVqkka7",
        "colab": {
          "base_uri": "https://localhost:8080/",
          "height": 35
        },
        "outputId": "66342c66-2bbc-4e0f-8560-eb8959b1c789"
      },
      "execution_count": null,
      "outputs": [
        {
          "output_type": "execute_result",
          "data": {
            "text/plain": [
              "'world'"
            ],
            "application/vnd.google.colaboratory.intrinsic+json": {
              "type": "string"
            }
          },
          "metadata": {},
          "execution_count": 114
        }
      ]
    },
    {
      "cell_type": "code",
      "source": [
        "'hello' or 'world'"
      ],
      "metadata": {
        "id": "w0OGuxwrkkhK",
        "colab": {
          "base_uri": "https://localhost:8080/",
          "height": 35
        },
        "outputId": "eb071d1f-a6f9-4f1a-a4b0-6aefb68d1d32"
      },
      "execution_count": null,
      "outputs": [
        {
          "output_type": "execute_result",
          "data": {
            "text/plain": [
              "'hello'"
            ],
            "application/vnd.google.colaboratory.intrinsic+json": {
              "type": "string"
            }
          },
          "metadata": {},
          "execution_count": 115
        }
      ]
    },
    {
      "cell_type": "code",
      "source": [
        "'hello' and 'world'"
      ],
      "metadata": {
        "id": "CR2s-hvBkklz",
        "colab": {
          "base_uri": "https://localhost:8080/",
          "height": 35
        },
        "outputId": "60d20b95-3999-4ef2-bda7-46ac27d39cf5"
      },
      "execution_count": null,
      "outputs": [
        {
          "output_type": "execute_result",
          "data": {
            "text/plain": [
              "'world'"
            ],
            "application/vnd.google.colaboratory.intrinsic+json": {
              "type": "string"
            }
          },
          "metadata": {},
          "execution_count": 116
        }
      ]
    },
    {
      "cell_type": "code",
      "source": [
        "not 'hello'"
      ],
      "metadata": {
        "id": "3XVKqAcfkkq8",
        "colab": {
          "base_uri": "https://localhost:8080/"
        },
        "outputId": "9f17bbb7-fb8d-4d82-a9dc-5618c8a34952"
      },
      "execution_count": null,
      "outputs": [
        {
          "output_type": "execute_result",
          "data": {
            "text/plain": [
              "False"
            ]
          },
          "metadata": {},
          "execution_count": 117
        }
      ]
    },
    {
      "cell_type": "code",
      "source": [
        "for i in 'rakeshama':\n",
        "  if i=='a':\n",
        "\n",
        "print(i)"
      ],
      "metadata": {
        "colab": {
          "base_uri": "https://localhost:8080/"
        },
        "id": "6inLrdnJSEY3",
        "outputId": "90743dd2-0b68-44e5-d87f-77f61b3c8db9"
      },
      "execution_count": null,
      "outputs": [
        {
          "output_type": "stream",
          "name": "stdout",
          "text": [
            "a\n"
          ]
        }
      ]
    },
    {
      "cell_type": "code",
      "source": [
        "b"
      ],
      "metadata": {
        "id": "74n4A_UcSO09"
      },
      "execution_count": null,
      "outputs": []
    },
    {
      "cell_type": "code",
      "source": [
        "for i in 'rakesh':\n",
        "  if i==a:\n",
        "    print(i)"
      ],
      "metadata": {
        "id": "b5klG46Akk1C",
        "colab": {
          "base_uri": "https://localhost:8080/"
        },
        "outputId": "bd3e97c0-a17a-41ef-c972-73f7be1a1f29"
      },
      "execution_count": null,
      "outputs": [
        {
          "output_type": "stream",
          "name": "stdout",
          "text": [
            "r\n",
            "a\n",
            "k\n",
            "e\n",
            "s\n",
            "h\n"
          ]
        }
      ]
    },
    {
      "cell_type": "code",
      "source": [
        "'D' not in 'delhi'"
      ],
      "metadata": {
        "id": "Y-26RdVPkk5q",
        "colab": {
          "base_uri": "https://localhost:8080/"
        },
        "outputId": "3554469f-f4b6-4337-df3f-dde2741441c7"
      },
      "execution_count": null,
      "outputs": [
        {
          "output_type": "execute_result",
          "data": {
            "text/plain": [
              "True"
            ]
          },
          "metadata": {},
          "execution_count": 42
        }
      ]
    },
    {
      "cell_type": "markdown",
      "source": [
        "## Common Functions\n",
        "- len\n",
        "- max\n",
        "- min\n",
        "- sorted"
      ],
      "metadata": {
        "id": "Dob1FgI5k3wB"
      }
    },
    {
      "cell_type": "code",
      "source": [
        "l=\"hello world\"\n",
        "len(l)"
      ],
      "metadata": {
        "colab": {
          "base_uri": "https://localhost:8080/"
        },
        "id": "0koU_xP6T8aB",
        "outputId": "8f252fd6-bf35-4fad-cbc4-fc63d27d865d"
      },
      "execution_count": null,
      "outputs": [
        {
          "output_type": "execute_result",
          "data": {
            "text/plain": [
              "11"
            ]
          },
          "metadata": {},
          "execution_count": 99
        }
      ]
    },
    {
      "cell_type": "code",
      "source": [
        "len('helloworld')"
      ],
      "metadata": {
        "id": "FnC0We0_T8QW",
        "colab": {
          "base_uri": "https://localhost:8080/"
        },
        "outputId": "c2584d30-e9d5-4e07-bfb9-92a02510a96b"
      },
      "execution_count": null,
      "outputs": [
        {
          "output_type": "execute_result",
          "data": {
            "text/plain": [
              "10"
            ]
          },
          "metadata": {},
          "execution_count": 100
        }
      ]
    },
    {
      "cell_type": "code",
      "source": [
        "max('hello worldz')"
      ],
      "metadata": {
        "id": "Xd7Iv523klBq",
        "colab": {
          "base_uri": "https://localhost:8080/",
          "height": 36
        },
        "outputId": "1b75a2b5-afa3-4aec-fb4e-59946bb66f1a"
      },
      "execution_count": null,
      "outputs": [
        {
          "output_type": "execute_result",
          "data": {
            "text/plain": [
              "'z'"
            ],
            "application/vnd.google.colaboratory.intrinsic+json": {
              "type": "string"
            }
          },
          "metadata": {},
          "execution_count": 101
        }
      ]
    },
    {
      "cell_type": "code",
      "source": [
        "min('helloworlda')"
      ],
      "metadata": {
        "id": "59RIcb3GklFU",
        "colab": {
          "base_uri": "https://localhost:8080/",
          "height": 36
        },
        "outputId": "9ca8050c-c656-4ee9-d08b-1a93721d3465"
      },
      "execution_count": null,
      "outputs": [
        {
          "output_type": "execute_result",
          "data": {
            "text/plain": [
              "'a'"
            ],
            "application/vnd.google.colaboratory.intrinsic+json": {
              "type": "string"
            }
          },
          "metadata": {},
          "execution_count": 105
        }
      ]
    },
    {
      "cell_type": "code",
      "source": [
        "\n",
        "l=\"abcdefg\"\n"
      ],
      "metadata": {
        "colab": {
          "base_uri": "https://localhost:8080/",
          "height": 192
        },
        "id": "aALIBfU2KkCf",
        "outputId": "60fd2639-7464-4009-914c-078fc445e22c"
      },
      "execution_count": null,
      "outputs": [
        {
          "output_type": "error",
          "ename": "NameError",
          "evalue": "ignored",
          "traceback": [
            "\u001b[0;31m---------------------------------------------------------------------------\u001b[0m",
            "\u001b[0;31mNameError\u001b[0m                                 Traceback (most recent call last)",
            "\u001b[0;32m<ipython-input-108-9689e5783f71>\u001b[0m in \u001b[0;36m<cell line: 2>\u001b[0;34m()\u001b[0m\n\u001b[1;32m      1\u001b[0m \u001b[0ml\u001b[0m\u001b[0;34m=\u001b[0m\u001b[0;34m\"abcdefg\"\u001b[0m\u001b[0;34m\u001b[0m\u001b[0;34m\u001b[0m\u001b[0m\n\u001b[0;32m----> 2\u001b[0;31m \u001b[0msort\u001b[0m\u001b[0;34m(\u001b[0m\u001b[0ml\u001b[0m\u001b[0;34m)\u001b[0m\u001b[0;34m\u001b[0m\u001b[0;34m\u001b[0m\u001b[0m\n\u001b[0m",
            "\u001b[0;31mNameError\u001b[0m: name 'sort' is not defined"
          ]
        }
      ]
    },
    {
      "cell_type": "code",
      "source": [
        "sorted('abcd efg')"
      ],
      "metadata": {
        "colab": {
          "base_uri": "https://localhost:8080/"
        },
        "id": "CHdZNYeezQfy",
        "outputId": "ae054e9b-abe7-4c53-e64e-5dff9fed037f"
      },
      "execution_count": null,
      "outputs": [
        {
          "output_type": "execute_result",
          "data": {
            "text/plain": [
              "[' ', 'a', 'b', 'c', 'd', 'e', 'f', 'g']"
            ]
          },
          "metadata": {},
          "execution_count": 109
        }
      ]
    },
    {
      "cell_type": "code",
      "source": [
        "sorted('abcd efg',reverse=True)"
      ],
      "metadata": {
        "id": "oLCFrY-4klI0",
        "colab": {
          "base_uri": "https://localhost:8080/"
        },
        "outputId": "586a3cb7-0b8e-4068-b37d-050af949bc1c"
      },
      "execution_count": null,
      "outputs": [
        {
          "output_type": "execute_result",
          "data": {
            "text/plain": [
              "['g', 'f', 'e', 'd', 'c', 'b', 'a', ' ']"
            ]
          },
          "metadata": {},
          "execution_count": 110
        }
      ]
    },
    {
      "cell_type": "code",
      "source": [
        "sorted('abcd efg')"
      ],
      "metadata": {
        "id": "j_-qy7ZlU3B1",
        "colab": {
          "base_uri": "https://localhost:8080/"
        },
        "outputId": "8ce0b7fd-34aa-41f2-f551-0deedd235fb9"
      },
      "execution_count": null,
      "outputs": [
        {
          "output_type": "execute_result",
          "data": {
            "text/plain": [
              "[' ', 'a', 'b', 'c', 'd', 'e', 'f', 'g']"
            ]
          },
          "metadata": {},
          "execution_count": 125
        }
      ]
    },
    {
      "cell_type": "markdown",
      "source": [
        "## Capitalize/Title/Upper/Lower/Swapcase"
      ],
      "metadata": {
        "id": "0KyGmIfClCM0"
      }
    },
    {
      "cell_type": "code",
      "source": [
        "s = 'kello world'\n",
        "print(s.capitalize())\n"
      ],
      "metadata": {
        "id": "0_CF1WF9lE-K",
        "colab": {
          "base_uri": "https://localhost:8080/"
        },
        "outputId": "d06a4bb5-d632-47ec-8558-dd34af1ceeb4"
      },
      "execution_count": null,
      "outputs": [
        {
          "output_type": "stream",
          "name": "stdout",
          "text": [
            "Kello world\n"
          ]
        }
      ]
    },
    {
      "cell_type": "code",
      "source": [
        "s.title()"
      ],
      "metadata": {
        "id": "k6vHkD0blFFC",
        "colab": {
          "base_uri": "https://localhost:8080/",
          "height": 36
        },
        "outputId": "66a211f7-af8d-414a-dc43-eca63a40b766"
      },
      "execution_count": null,
      "outputs": [
        {
          "output_type": "execute_result",
          "data": {
            "text/plain": [
              "'Kello World'"
            ],
            "application/vnd.google.colaboratory.intrinsic+json": {
              "type": "string"
            }
          },
          "metadata": {},
          "execution_count": 113
        }
      ]
    },
    {
      "cell_type": "code",
      "source": [
        "s.upper()"
      ],
      "metadata": {
        "id": "P1z-mGwXlFLj",
        "colab": {
          "base_uri": "https://localhost:8080/",
          "height": 36
        },
        "outputId": "0ec3d2cb-47b5-44af-c5e7-deb9f2a362bc"
      },
      "execution_count": null,
      "outputs": [
        {
          "output_type": "execute_result",
          "data": {
            "text/plain": [
              "'KELLO WORLD'"
            ],
            "application/vnd.google.colaboratory.intrinsic+json": {
              "type": "string"
            }
          },
          "metadata": {},
          "execution_count": 114
        }
      ]
    },
    {
      "cell_type": "code",
      "source": [
        "'Hello Wolrd'.lower()"
      ],
      "metadata": {
        "id": "7n6ifAtalFRG",
        "colab": {
          "base_uri": "https://localhost:8080/",
          "height": 36
        },
        "outputId": "86455c94-5320-4770-e784-948e2f40749d"
      },
      "execution_count": null,
      "outputs": [
        {
          "output_type": "execute_result",
          "data": {
            "text/plain": [
              "'hello wolrd'"
            ],
            "application/vnd.google.colaboratory.intrinsic+json": {
              "type": "string"
            }
          },
          "metadata": {},
          "execution_count": 115
        }
      ]
    },
    {
      "cell_type": "code",
      "source": [
        "'HeLlO WorLD'.swapcase()"
      ],
      "metadata": {
        "id": "Bup-GFqSlFWK",
        "colab": {
          "base_uri": "https://localhost:8080/",
          "height": 36
        },
        "outputId": "e589f688-2b4d-431a-cea6-82f8262f1913"
      },
      "execution_count": null,
      "outputs": [
        {
          "output_type": "execute_result",
          "data": {
            "text/plain": [
              "'hElLo wORld'"
            ],
            "application/vnd.google.colaboratory.intrinsic+json": {
              "type": "string"
            }
          },
          "metadata": {},
          "execution_count": 116
        }
      ]
    },
    {
      "cell_type": "code",
      "source": [
        "## Count/Find/Index"
      ],
      "metadata": {
        "id": "DlmzqXjKlFbT"
      },
      "execution_count": null,
      "outputs": []
    },
    {
      "cell_type": "code",
      "source": [
        "'my name is nitish'.count('a')"
      ],
      "metadata": {
        "id": "bDQM-MS9lFgD",
        "colab": {
          "base_uri": "https://localhost:8080/"
        },
        "outputId": "26d90cfb-4766-46b7-bd3c-d4716b2a09f7"
      },
      "execution_count": null,
      "outputs": [
        {
          "output_type": "execute_result",
          "data": {
            "text/plain": [
              "1"
            ]
          },
          "metadata": {},
          "execution_count": 118
        }
      ]
    },
    {
      "cell_type": "code",
      "source": [
        "'my name is nitish'.find('z')\n"
      ],
      "metadata": {
        "id": "_5kjNkGxlFky",
        "colab": {
          "base_uri": "https://localhost:8080/"
        },
        "outputId": "a31099c5-b3b3-4c36-f834-61b7dcdfea66"
      },
      "execution_count": null,
      "outputs": [
        {
          "output_type": "execute_result",
          "data": {
            "text/plain": [
              "-1"
            ]
          },
          "metadata": {},
          "execution_count": 127
        }
      ]
    },
    {
      "cell_type": "code",
      "source": [
        "'my name is nitish'.index('z')"
      ],
      "metadata": {
        "id": "VuXdTwo6lFq8",
        "colab": {
          "base_uri": "https://localhost:8080/",
          "height": 175
        },
        "outputId": "5a9e11eb-3c89-43cd-eeaa-3533506686c0"
      },
      "execution_count": null,
      "outputs": [
        {
          "output_type": "error",
          "ename": "ValueError",
          "evalue": "ignored",
          "traceback": [
            "\u001b[0;31m---------------------------------------------------------------------------\u001b[0m",
            "\u001b[0;31mValueError\u001b[0m                                Traceback (most recent call last)",
            "\u001b[0;32m<ipython-input-126-652053444fad>\u001b[0m in \u001b[0;36m<cell line: 1>\u001b[0;34m()\u001b[0m\n\u001b[0;32m----> 1\u001b[0;31m \u001b[0;34m'my name is nitish'\u001b[0m\u001b[0;34m.\u001b[0m\u001b[0mindex\u001b[0m\u001b[0;34m(\u001b[0m\u001b[0;34m'z'\u001b[0m\u001b[0;34m)\u001b[0m\u001b[0;34m\u001b[0m\u001b[0;34m\u001b[0m\u001b[0m\n\u001b[0m",
            "\u001b[0;31mValueError\u001b[0m: substring not found"
          ]
        }
      ]
    },
    {
      "cell_type": "markdown",
      "source": [
        "## endswith/startswith"
      ],
      "metadata": {
        "id": "CrHCV14ZlW3p"
      }
    },
    {
      "cell_type": "code",
      "source": [
        "'my name is nitish'.endswith('sh')"
      ],
      "metadata": {
        "id": "HaqPEkjMlS4e",
        "colab": {
          "base_uri": "https://localhost:8080/"
        },
        "outputId": "6338a236-dd29-40d7-831f-1a21706419a2"
      },
      "execution_count": null,
      "outputs": [
        {
          "output_type": "execute_result",
          "data": {
            "text/plain": [
              "True"
            ]
          },
          "metadata": {},
          "execution_count": 130
        }
      ]
    },
    {
      "cell_type": "code",
      "source": [
        "'my name is nitish'.startswith('l')"
      ],
      "metadata": {
        "id": "IDEkxXhSlS_Q",
        "colab": {
          "base_uri": "https://localhost:8080/"
        },
        "outputId": "91020556-9e99-412a-f88e-c80ade04f39c"
      },
      "execution_count": null,
      "outputs": [
        {
          "output_type": "execute_result",
          "data": {
            "text/plain": [
              "False"
            ]
          },
          "metadata": {},
          "execution_count": 131
        }
      ]
    },
    {
      "cell_type": "markdown",
      "source": [
        "## format"
      ],
      "metadata": {
        "id": "azVyh3RzldqO"
      }
    },
    {
      "cell_type": "code",
      "source": [
        "name = 'chrstian'\n",
        "gender = 'male'\n",
        "code=\"python\"\n",
        "school=\"kv\"\n",
        "\n",
        "'Hi my name is {2} and I am a {1} and i love {3} i study in {0}'.format(school,gender,name,code)"
      ],
      "metadata": {
        "id": "9pOSwWphlTEN",
        "colab": {
          "base_uri": "https://localhost:8080/",
          "height": 36
        },
        "outputId": "b7a50f8f-5b98-4983-e04d-fc90765ee8e5"
      },
      "execution_count": null,
      "outputs": [
        {
          "output_type": "execute_result",
          "data": {
            "text/plain": [
              "'Hi my name is chrstian and I am a male and i love python i study in kv'"
            ],
            "application/vnd.google.colaboratory.intrinsic+json": {
              "type": "string"
            }
          },
          "metadata": {},
          "execution_count": 134
        }
      ]
    },
    {
      "cell_type": "markdown",
      "source": [
        "## isalnum/ isalpha/ isdigit/ isidentifier"
      ],
      "metadata": {
        "id": "0mL9VyFXlhyB"
      }
    },
    {
      "cell_type": "code",
      "source": [
        "'366rt'.isalnum()"
      ],
      "metadata": {
        "id": "avYBPIpAlTM1",
        "colab": {
          "base_uri": "https://localhost:8080/"
        },
        "outputId": "6ea72ed1-3ac6-44b7-fdd8-dcb38f4ef801"
      },
      "execution_count": null,
      "outputs": [
        {
          "output_type": "execute_result",
          "data": {
            "text/plain": [
              "True"
            ]
          },
          "metadata": {},
          "execution_count": 139
        }
      ]
    },
    {
      "cell_type": "code",
      "source": [
        "'nitish'.isalpha()"
      ],
      "metadata": {
        "id": "eA9fCPSylTRe",
        "colab": {
          "base_uri": "https://localhost:8080/"
        },
        "outputId": "ad352fc7-3859-4e49-c981-57627194893b"
      },
      "execution_count": null,
      "outputs": [
        {
          "output_type": "execute_result",
          "data": {
            "text/plain": [
              "True"
            ]
          },
          "metadata": {},
          "execution_count": 141
        }
      ]
    },
    {
      "cell_type": "code",
      "source": [
        "'123a'.isdigit()"
      ],
      "metadata": {
        "id": "WnL2reEzlTU3",
        "colab": {
          "base_uri": "https://localhost:8080/"
        },
        "outputId": "633c9bce-10cb-4311-955a-7b3344f20b08"
      },
      "execution_count": null,
      "outputs": [
        {
          "output_type": "execute_result",
          "data": {
            "text/plain": [
              "False"
            ]
          },
          "metadata": {},
          "execution_count": 143
        }
      ]
    },
    {
      "cell_type": "markdown",
      "source": [
        "## Split/Join"
      ],
      "metadata": {
        "id": "ifnr3XQRlp96"
      }
    },
    {
      "cell_type": "code",
      "source": [
        "'hi my name is nitish'.split()"
      ],
      "metadata": {
        "id": "XomJMu3Olqgc",
        "colab": {
          "base_uri": "https://localhost:8080/"
        },
        "outputId": "ab2de013-9a7f-4f9e-9423-6855e0a66e3f"
      },
      "execution_count": null,
      "outputs": [
        {
          "output_type": "execute_result",
          "data": {
            "text/plain": [
              "['hi', 'my', 'name', 'is', 'nitish']"
            ]
          },
          "metadata": {},
          "execution_count": 144
        }
      ]
    },
    {
      "cell_type": "code",
      "source": [
        "\" \".join(['hi', 'my', 'name', 'is', 'nitish'])"
      ],
      "metadata": {
        "id": "9P0qiQhGltKi",
        "colab": {
          "base_uri": "https://localhost:8080/",
          "height": 36
        },
        "outputId": "a22e997b-67f5-41ff-b12b-5319a2ff113d"
      },
      "execution_count": null,
      "outputs": [
        {
          "output_type": "execute_result",
          "data": {
            "text/plain": [
              "'hi my name is nitish'"
            ],
            "application/vnd.google.colaboratory.intrinsic+json": {
              "type": "string"
            }
          },
          "metadata": {},
          "execution_count": 152
        }
      ]
    },
    {
      "cell_type": "markdown",
      "source": [
        "## Replace"
      ],
      "metadata": {
        "id": "KGm-HOi_lyWK"
      }
    },
    {
      "cell_type": "code",
      "source": [
        "'hi my name is nitishis'.replace('hi','bye')"
      ],
      "metadata": {
        "id": "pK3hQPCGltYB",
        "colab": {
          "base_uri": "https://localhost:8080/",
          "height": 36
        },
        "outputId": "0a3066da-697d-44d1-c75f-ec4e467c0530"
      },
      "execution_count": null,
      "outputs": [
        {
          "output_type": "execute_result",
          "data": {
            "text/plain": [
              "'bye my name is nitisbyes'"
            ],
            "application/vnd.google.colaboratory.intrinsic+json": {
              "type": "string"
            }
          },
          "metadata": {},
          "execution_count": 154
        }
      ]
    },
    {
      "cell_type": "markdown",
      "source": [
        "## Strip"
      ],
      "metadata": {
        "id": "GQ9dfDvRl3nK"
      }
    },
    {
      "cell_type": "code",
      "source": [
        "'nitish                           '.strip()"
      ],
      "metadata": {
        "id": "Br5VuxRCltch",
        "colab": {
          "base_uri": "https://localhost:8080/",
          "height": 35
        },
        "outputId": "ac68130e-a70d-4983-cc20-d4278b980e64"
      },
      "execution_count": null,
      "outputs": [
        {
          "output_type": "execute_result",
          "data": {
            "text/plain": [
              "'nitish'"
            ],
            "application/vnd.google.colaboratory.intrinsic+json": {
              "type": "string"
            }
          },
          "metadata": {},
          "execution_count": 174
        }
      ]
    },
    {
      "cell_type": "markdown",
      "source": [
        "## Example Programs"
      ],
      "metadata": {
        "id": "NMpcIDNCl8US"
      }
    },
    {
      "cell_type": "code",
      "source": [
        "l=\"hello\"\n",
        "print(l[1]) # e\n",
        "print(l[0:2]) # he\n",
        "print(l[0:3]) # hel\n",
        "print(l[:]) # hello\n",
        "print(l[::2]) # hlo\n",
        "print(l[5:0:-1]) #olle"
      ],
      "metadata": {
        "colab": {
          "base_uri": "https://localhost:8080/"
        },
        "id": "-GoPZS28Z3Sc",
        "outputId": "7effbdc3-e70f-4711-e185-bd2a86d2e371"
      },
      "execution_count": null,
      "outputs": [
        {
          "output_type": "stream",
          "name": "stdout",
          "text": [
            "e\n",
            "he\n",
            "hel\n",
            "hello\n",
            "hlo\n",
            "olle\n"
          ]
        }
      ]
    },
    {
      "cell_type": "code",
      "source": [
        "\"hello\".index('h')"
      ],
      "metadata": {
        "colab": {
          "base_uri": "https://localhost:8080/"
        },
        "id": "ebnF1Au3fNOE",
        "outputId": "c7f58048-343b-470f-ce2c-eb37dea920d8"
      },
      "execution_count": null,
      "outputs": [
        {
          "output_type": "execute_result",
          "data": {
            "text/plain": [
              "0"
            ]
          },
          "metadata": {},
          "execution_count": 156
        }
      ]
    },
    {
      "cell_type": "code",
      "source": [
        "# Find the length of a given string without using the len() function\n",
        "\n",
        "s = input('enter the string ')\n",
        "\n",
        "c = 0\n",
        "\n",
        "for i in s:\n",
        "  c += 1\n",
        "\n",
        "print('length of string is',c)"
      ],
      "metadata": {
        "id": "coExHaJEltki",
        "colab": {
          "base_uri": "https://localhost:8080/"
        },
        "outputId": "c9e9dca1-ec5e-46f2-929b-3104992556dd"
      },
      "execution_count": null,
      "outputs": [
        {
          "output_type": "stream",
          "name": "stdout",
          "text": [
            "enter the string hello\n",
            "length of string is 5\n"
          ]
        }
      ]
    },
    {
      "cell_type": "code",
      "source": [
        "# Extract username from a given email.\n",
        "# Eg if the email is nitish24singh@gmail.com\n",
        "# then the username should be nitish24singh\n",
        "\n",
        "s = input('enter the email ')\n",
        "# s='connet@gmail.com'\n",
        "pos = s.index('@')\n",
        "print(pos)\n",
        "print(s[0:pos])\n",
        "#print(s[0:6]) --> range of values\n",
        "# print(s[0])\n",
        "\n"
      ],
      "metadata": {
        "id": "VB_lke5nltoN",
        "colab": {
          "base_uri": "https://localhost:8080/"
        },
        "outputId": "2bbe6ee2-f25c-4f76-c67e-42c98a44959f"
      },
      "execution_count": null,
      "outputs": [
        {
          "output_type": "stream",
          "name": "stdout",
          "text": [
            "enter the email nitish24singh@gmail.com\n",
            "13\n",
            "nitish24singh\n"
          ]
        }
      ]
    },
    {
      "cell_type": "code",
      "source": [
        "# Count the frequency of a particular character in a provided string.\n",
        "# Eg 'hello how are you' is the string, the frequency of h in this string is 2.\n",
        "\n",
        "s = input('enter the email ')  #connecttoashutosh99@gmail.com\n",
        "term = input('what would like to search for ') #o\n",
        "\n",
        "counter = 0\n",
        "for i in s:\n",
        "  if i == term:\n",
        "    counter += 1\n",
        "\n",
        "print('frequency',counter)\n"
      ],
      "metadata": {
        "id": "mgqvImE4ltsJ",
        "colab": {
          "base_uri": "https://localhost:8080/"
        },
        "outputId": "3e92a115-1d3f-4c7e-a59d-6c7794c4bb75"
      },
      "execution_count": null,
      "outputs": [
        {
          "output_type": "stream",
          "name": "stdout",
          "text": [
            "enter the email Count the frequency of a particular character in a provided string\n",
            "what would like to search for o\n",
            "frequency 3\n"
          ]
        }
      ]
    },
    {
      "cell_type": "code",
      "source": [
        "# Write a program which can remove a particular character from a string.\n",
        "s = input('enter the string  ')\n",
        "term = input('what would like to remove ')\n",
        "\n",
        "result = ''\n",
        "\n",
        "for i in s:\n",
        "  if i != term:\n",
        "    result = result + i\n",
        "\n",
        "print(result)"
      ],
      "metadata": {
        "id": "J3YKuS7kltvL",
        "colab": {
          "base_uri": "https://localhost:8080/",
          "height": 390
        },
        "outputId": "903b0c07-ee97-48b5-9931-2ae0e17a9df5"
      },
      "execution_count": null,
      "outputs": [
        {
          "output_type": "error",
          "ename": "KeyboardInterrupt",
          "evalue": "ignored",
          "traceback": [
            "\u001b[0;31m---------------------------------------------------------------------------\u001b[0m",
            "\u001b[0;31mKeyboardInterrupt\u001b[0m                         Traceback (most recent call last)",
            "\u001b[0;32m<ipython-input-163-26522a0c2bd9>\u001b[0m in \u001b[0;36m<cell line: 2>\u001b[0;34m()\u001b[0m\n\u001b[1;32m      1\u001b[0m \u001b[0;31m# Write a program which can remove a particular character from a string.\u001b[0m\u001b[0;34m\u001b[0m\u001b[0;34m\u001b[0m\u001b[0m\n\u001b[0;32m----> 2\u001b[0;31m \u001b[0ms\u001b[0m \u001b[0;34m=\u001b[0m \u001b[0minput\u001b[0m\u001b[0;34m(\u001b[0m\u001b[0;34m'enter the string  '\u001b[0m\u001b[0;34m)\u001b[0m\u001b[0;34m\u001b[0m\u001b[0;34m\u001b[0m\u001b[0m\n\u001b[0m\u001b[1;32m      3\u001b[0m \u001b[0mterm\u001b[0m \u001b[0;34m=\u001b[0m \u001b[0minput\u001b[0m\u001b[0;34m(\u001b[0m\u001b[0;34m'what would like to remove '\u001b[0m\u001b[0;34m)\u001b[0m\u001b[0;34m\u001b[0m\u001b[0;34m\u001b[0m\u001b[0m\n\u001b[1;32m      4\u001b[0m \u001b[0;34m\u001b[0m\u001b[0m\n\u001b[1;32m      5\u001b[0m \u001b[0mresult\u001b[0m \u001b[0;34m=\u001b[0m \u001b[0;34m''\u001b[0m\u001b[0;34m\u001b[0m\u001b[0;34m\u001b[0m\u001b[0m\n",
            "\u001b[0;32m/usr/local/lib/python3.10/dist-packages/ipykernel/kernelbase.py\u001b[0m in \u001b[0;36mraw_input\u001b[0;34m(self, prompt)\u001b[0m\n\u001b[1;32m    849\u001b[0m                 \u001b[0;34m\"raw_input was called, but this frontend does not support input requests.\"\u001b[0m\u001b[0;34m\u001b[0m\u001b[0;34m\u001b[0m\u001b[0m\n\u001b[1;32m    850\u001b[0m             )\n\u001b[0;32m--> 851\u001b[0;31m         return self._input_request(str(prompt),\n\u001b[0m\u001b[1;32m    852\u001b[0m             \u001b[0mself\u001b[0m\u001b[0;34m.\u001b[0m\u001b[0m_parent_ident\u001b[0m\u001b[0;34m,\u001b[0m\u001b[0;34m\u001b[0m\u001b[0;34m\u001b[0m\u001b[0m\n\u001b[1;32m    853\u001b[0m             \u001b[0mself\u001b[0m\u001b[0;34m.\u001b[0m\u001b[0m_parent_header\u001b[0m\u001b[0;34m,\u001b[0m\u001b[0;34m\u001b[0m\u001b[0;34m\u001b[0m\u001b[0m\n",
            "\u001b[0;32m/usr/local/lib/python3.10/dist-packages/ipykernel/kernelbase.py\u001b[0m in \u001b[0;36m_input_request\u001b[0;34m(self, prompt, ident, parent, password)\u001b[0m\n\u001b[1;32m    893\u001b[0m             \u001b[0;32mexcept\u001b[0m \u001b[0mKeyboardInterrupt\u001b[0m\u001b[0;34m:\u001b[0m\u001b[0;34m\u001b[0m\u001b[0;34m\u001b[0m\u001b[0m\n\u001b[1;32m    894\u001b[0m                 \u001b[0;31m# re-raise KeyboardInterrupt, to truncate traceback\u001b[0m\u001b[0;34m\u001b[0m\u001b[0;34m\u001b[0m\u001b[0m\n\u001b[0;32m--> 895\u001b[0;31m                 \u001b[0;32mraise\u001b[0m \u001b[0mKeyboardInterrupt\u001b[0m\u001b[0;34m(\u001b[0m\u001b[0;34m\"Interrupted by user\"\u001b[0m\u001b[0;34m)\u001b[0m \u001b[0;32mfrom\u001b[0m \u001b[0;32mNone\u001b[0m\u001b[0;34m\u001b[0m\u001b[0;34m\u001b[0m\u001b[0m\n\u001b[0m\u001b[1;32m    896\u001b[0m             \u001b[0;32mexcept\u001b[0m \u001b[0mException\u001b[0m \u001b[0;32mas\u001b[0m \u001b[0me\u001b[0m\u001b[0;34m:\u001b[0m\u001b[0;34m\u001b[0m\u001b[0;34m\u001b[0m\u001b[0m\n\u001b[1;32m    897\u001b[0m                 \u001b[0mself\u001b[0m\u001b[0;34m.\u001b[0m\u001b[0mlog\u001b[0m\u001b[0;34m.\u001b[0m\u001b[0mwarning\u001b[0m\u001b[0;34m(\u001b[0m\u001b[0;34m\"Invalid Message:\"\u001b[0m\u001b[0;34m,\u001b[0m \u001b[0mexc_info\u001b[0m\u001b[0;34m=\u001b[0m\u001b[0;32mTrue\u001b[0m\u001b[0;34m)\u001b[0m\u001b[0;34m\u001b[0m\u001b[0;34m\u001b[0m\u001b[0m\n",
            "\u001b[0;31mKeyboardInterrupt\u001b[0m: Interrupted by user"
          ]
        }
      ]
    },
    {
      "cell_type": "code",
      "source": [
        "# Write a program that can check whether a given string is palindrome or not.\n",
        "# abba\n",
        "# malayalam\n",
        "\n",
        "s = input('enter the string ')\n",
        "flag = True\n",
        "for i in range(0,len(s)//2):\n",
        "  if s[i] != s[len(s) - i -1]:\n",
        "    flag = False\n",
        "    print('Not a Palindrome')\n",
        "    break\n",
        "\n",
        "if flag:\n",
        "  print('Palindrome')\n",
        "\n"
      ],
      "metadata": {
        "id": "2_x0j-89ltxm",
        "colab": {
          "base_uri": "https://localhost:8080/"
        },
        "outputId": "b28641ce-0989-4b72-e934-67b4368574ef"
      },
      "execution_count": null,
      "outputs": [
        {
          "output_type": "stream",
          "name": "stdout",
          "text": [
            "enter the string helleh\n",
            "Palindrome\n"
          ]
        }
      ]
    },
    {
      "cell_type": "code",
      "source": [
        "s = input('Enter the string: ')\n",
        "L = []\n",
        "temp = ''\n",
        "\n",
        "for i in s:\n",
        "    if i != ' ':\n",
        "        temp = temp + i\n",
        "    else:\n",
        "        L.append(temp)\n",
        "        temp = ''\n",
        "\n",
        "# Append the last word if the string doesn't end with a space\n",
        "if temp:\n",
        "    L.append(temp)\n",
        "\n",
        "# Count the number of words\n",
        "num_words = len(L)\n",
        "\n",
        "print(f\"Number of words: {num_words}\")"
      ],
      "metadata": {
        "id": "ZvpfSTsClt3M",
        "colab": {
          "base_uri": "https://localhost:8080/"
        },
        "outputId": "17d0e6ab-5b11-4183-aa4f-15589678a563"
      },
      "execution_count": null,
      "outputs": [
        {
          "output_type": "stream",
          "name": "stdout",
          "text": [
            "Enter the string: hello world\n",
            "Number of words: 2\n"
          ]
        }
      ]
    },
    {
      "cell_type": "code",
      "source": [
        "# Write a python program to convert a string to title case without using the title()\n",
        "s = input('enter the string ')\n",
        "\n",
        "L = []\n",
        "for i in s.split():\n",
        "  L.append(i[0].upper() + i[1:].lower())\n",
        "\n",
        "print(\" \".join(L))"
      ],
      "metadata": {
        "id": "o0X_MUI7lt84",
        "colab": {
          "base_uri": "https://localhost:8080/"
        },
        "outputId": "a141fce9-51cf-4141-ed05-dd1309ec5bc5"
      },
      "execution_count": null,
      "outputs": [
        {
          "output_type": "stream",
          "name": "stdout",
          "text": [
            "enter the string hELLO\n",
            "Hello\n"
          ]
        }
      ]
    },
    {
      "cell_type": "code",
      "source": [
        "# Write a program that can convert an integer to string.\n",
        "\n",
        "number = int(input('enter the number '))\n",
        "\n",
        "digits = '0123456789'\n",
        "result = ''\n",
        "while number != 0:\n",
        "  result = digits[number % 10] + result\n",
        "  number = number//10\n",
        "\n",
        "print(result)\n",
        "print(type(result))"
      ],
      "metadata": {
        "id": "jRLz7rdPlt-s"
      },
      "execution_count": null,
      "outputs": []
    }
  ]
}