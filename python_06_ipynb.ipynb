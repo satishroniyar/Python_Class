{
  "nbformat": 4,
  "nbformat_minor": 0,
  "metadata": {
    "colab": {
      "provenance": []
    },
    "kernelspec": {
      "name": "python3",
      "display_name": "Python 3"
    },
    "language_info": {
      "name": "python"
    }
  },
  "cells": [
    {
      "cell_type": "code",
      "source": [
        "def show(a=1):\n",
        "  print(\"my first function\")"
      ],
      "metadata": {
        "id": "rJeeeFm-18Sm"
      },
      "execution_count": null,
      "outputs": []
    },
    {
      "cell_type": "code",
      "source": [
        "show()"
      ],
      "metadata": {
        "colab": {
          "base_uri": "https://localhost:8080/"
        },
        "id": "OcwwEFu62D1y",
        "outputId": "8e3a684b-0d23-46b9-ef96-5104f5f83cfa"
      },
      "execution_count": null,
      "outputs": [
        {
          "output_type": "stream",
          "name": "stdout",
          "text": [
            "my first function\n"
          ]
        }
      ]
    },
    {
      "cell_type": "code",
      "source": [
        "def learn_to_code():\n",
        "    print(\"THIS IS MY FIRST FUNCTION\")"
      ],
      "metadata": {
        "id": "erFDTJLtyiQ-"
      },
      "execution_count": null,
      "outputs": []
    },
    {
      "cell_type": "code",
      "source": [
        "learn_to_code()"
      ],
      "metadata": {
        "colab": {
          "base_uri": "https://localhost:8080/"
        },
        "id": "u0ELQpXdypFC",
        "outputId": "4a99b832-0fd9-404d-e13f-686e267a72c0"
      },
      "execution_count": null,
      "outputs": [
        {
          "output_type": "stream",
          "name": "stdout",
          "text": [
            "THIS IS MY FIRST FUNCTION\n"
          ]
        }
      ]
    },
    {
      "cell_type": "code",
      "source": [
        "# LETS CREATE A FUNCTION\n",
        "def is_even(num):\n",
        "  \"give the number\"\n",
        "  if type(num)==int:\n",
        "    if num%2==0:\n",
        "      return  \"even\"\n",
        "    else :\n",
        "        return \"odd\"\n",
        "  else:\n",
        "    return \"number\""
      ],
      "metadata": {
        "id": "zmPrnJHov4Lp"
      },
      "execution_count": null,
      "outputs": []
    },
    {
      "cell_type": "code",
      "source": [
        "is_even(34)"
      ],
      "metadata": {
        "colab": {
          "base_uri": "https://localhost:8080/",
          "height": 36
        },
        "id": "N_yjyOVuz6Dq",
        "outputId": "14d2d5f5-6749-43c0-a5cc-6c505e4f8664"
      },
      "execution_count": null,
      "outputs": [
        {
          "output_type": "execute_result",
          "data": {
            "text/plain": [
              "'even'"
            ],
            "application/vnd.google.colaboratory.intrinsic+json": {
              "type": "string"
            }
          },
          "metadata": {},
          "execution_count": 10
        }
      ]
    },
    {
      "cell_type": "code",
      "source": [
        "is_even(3)"
      ],
      "metadata": {
        "colab": {
          "base_uri": "https://localhost:8080/",
          "height": 36
        },
        "id": "FCMXzkyzwueG",
        "outputId": "1b6360f1-e345-406c-eead-578e5a08ea28"
      },
      "execution_count": null,
      "outputs": [
        {
          "output_type": "execute_result",
          "data": {
            "text/plain": [
              "'odd'"
            ],
            "application/vnd.google.colaboratory.intrinsic+json": {
              "type": "string"
            }
          },
          "metadata": {},
          "execution_count": 11
        }
      ]
    },
    {
      "cell_type": "code",
      "source": [
        "is_even(34.5)"
      ],
      "metadata": {
        "colab": {
          "base_uri": "https://localhost:8080/",
          "height": 36
        },
        "id": "2ZERkuU42lP8",
        "outputId": "3caafa64-ed15-4be4-86f1-44b39041fd4f"
      },
      "execution_count": null,
      "outputs": [
        {
          "output_type": "execute_result",
          "data": {
            "text/plain": [
              "'number'"
            ],
            "application/vnd.google.colaboratory.intrinsic+json": {
              "type": "string"
            }
          },
          "metadata": {},
          "execution_count": 12
        }
      ]
    },
    {
      "cell_type": "code",
      "source": [
        "type(is_even)"
      ],
      "metadata": {
        "colab": {
          "base_uri": "https://localhost:8080/"
        },
        "id": "h-G2Nh94xqGO",
        "outputId": "f57c3ac4-9f63-49f1-bcdb-12a7bf74c440"
      },
      "execution_count": null,
      "outputs": [
        {
          "output_type": "execute_result",
          "data": {
            "text/plain": [
              "function"
            ]
          },
          "metadata": {},
          "execution_count": 13
        }
      ]
    },
    {
      "cell_type": "code",
      "source": [
        "def greet():\n",
        "    print('Hello World!')\n",
        "\n",
        "# call the function\n",
        "greet()\n",
        "\n",
        "print('Outside function')"
      ],
      "metadata": {
        "colab": {
          "base_uri": "https://localhost:8080/"
        },
        "id": "Pr7wSr3zxvdS",
        "outputId": "8a621445-12b0-434e-d975-e0c58722f0bd"
      },
      "execution_count": null,
      "outputs": [
        {
          "output_type": "stream",
          "name": "stdout",
          "text": [
            "Hello World!\n",
            "Outside function\n"
          ]
        }
      ]
    },
    {
      "cell_type": "code",
      "source": [
        "# function with two arguments\n",
        "def add_numbers(num1, num2):\n",
        "    sum = num1 + num2\n",
        "    print('Sum: ',sum)"
      ],
      "metadata": {
        "id": "12dQdNG6x5F8"
      },
      "execution_count": null,
      "outputs": []
    },
    {
      "cell_type": "code",
      "source": [
        "add_numbers(9,8)"
      ],
      "metadata": {
        "colab": {
          "base_uri": "https://localhost:8080/"
        },
        "id": "hZ-Qc5QG2_RL",
        "outputId": "2a5f70a5-c5db-44c8-a860-4e8c8567b21e"
      },
      "execution_count": null,
      "outputs": [
        {
          "output_type": "stream",
          "name": "stdout",
          "text": [
            "Sum:  17\n"
          ]
        }
      ]
    },
    {
      "cell_type": "code",
      "source": [
        "# function definition\n",
        "def find_square(num):\n",
        "    result = num * num\n",
        "    return result\n",
        "\n",
        "# function call\n",
        "square = find_square(9)\n",
        "\n",
        "print('Square:',square)\n",
        "\n",
        "# Output: Square: 9"
      ],
      "metadata": {
        "colab": {
          "base_uri": "https://localhost:8080/"
        },
        "id": "cwkLl7FRyODA",
        "outputId": "1820cf6d-d302-477a-b43f-230c1bfd8c44"
      },
      "execution_count": null,
      "outputs": [
        {
          "output_type": "stream",
          "name": "stdout",
          "text": [
            "Square: 81\n"
          ]
        }
      ]
    },
    {
      "cell_type": "code",
      "source": [
        "# function call with two values\n",
        "add_numbers(5, 4)\n",
        "\n"
      ],
      "metadata": {
        "colab": {
          "base_uri": "https://localhost:8080/"
        },
        "id": "TfwSWTejyCGU",
        "outputId": "8d9c6e26-94ee-4161-e986-7f6b9f0854d7"
      },
      "execution_count": null,
      "outputs": [
        {
          "output_type": "stream",
          "name": "stdout",
          "text": [
            "Sum:  9\n"
          ]
        }
      ]
    },
    {
      "cell_type": "code",
      "source": [
        "# parameters and argument\n",
        "#v default argument\n",
        "def power(a=2,b=1):\n",
        "  return a**b"
      ],
      "metadata": {
        "id": "gfHePLxmyJMb"
      },
      "execution_count": null,
      "outputs": []
    },
    {
      "cell_type": "code",
      "source": [
        "power(5,6)"
      ],
      "metadata": {
        "colab": {
          "base_uri": "https://localhost:8080/"
        },
        "id": "i0LMlOAYaIkS",
        "outputId": "a91ab899-1f13-4fbb-da34-cd2d5856b8af"
      },
      "execution_count": null,
      "outputs": [
        {
          "output_type": "execute_result",
          "data": {
            "text/plain": [
              "15625"
            ]
          },
          "metadata": {},
          "execution_count": 27
        }
      ]
    },
    {
      "cell_type": "code",
      "source": [
        "power(5,5)"
      ],
      "metadata": {
        "colab": {
          "base_uri": "https://localhost:8080/"
        },
        "id": "Y9xqqNQkyclG",
        "outputId": "248237bd-11e3-41c5-cc94-087e002ef241"
      },
      "execution_count": null,
      "outputs": [
        {
          "output_type": "execute_result",
          "data": {
            "text/plain": [
              "3125"
            ]
          },
          "metadata": {},
          "execution_count": 28
        }
      ]
    },
    {
      "cell_type": "code",
      "source": [
        "power(3,4,5,6)"
      ],
      "metadata": {
        "colab": {
          "base_uri": "https://localhost:8080/",
          "height": 175
        },
        "id": "mRmGMAYPaoNd",
        "outputId": "1dfcab09-8e42-4c07-8dda-d6cb9f738867"
      },
      "execution_count": null,
      "outputs": [
        {
          "output_type": "error",
          "ename": "TypeError",
          "evalue": "power() takes from 0 to 2 positional arguments but 4 were given",
          "traceback": [
            "\u001b[0;31m---------------------------------------------------------------------------\u001b[0m",
            "\u001b[0;31mTypeError\u001b[0m                                 Traceback (most recent call last)",
            "\u001b[0;32m<ipython-input-30-2fd4c3057582>\u001b[0m in \u001b[0;36m<cell line: 1>\u001b[0;34m()\u001b[0m\n\u001b[0;32m----> 1\u001b[0;31m \u001b[0mpower\u001b[0m\u001b[0;34m(\u001b[0m\u001b[0;36m3\u001b[0m\u001b[0;34m,\u001b[0m\u001b[0;36m4\u001b[0m\u001b[0;34m,\u001b[0m\u001b[0;36m5\u001b[0m\u001b[0;34m,\u001b[0m\u001b[0;36m6\u001b[0m\u001b[0;34m)\u001b[0m\u001b[0;34m\u001b[0m\u001b[0;34m\u001b[0m\u001b[0m\n\u001b[0m",
            "\u001b[0;31mTypeError\u001b[0m: power() takes from 0 to 2 positional arguments but 4 were given"
          ]
        }
      ]
    },
    {
      "cell_type": "code",
      "source": [
        "# positional argument\n",
        "power(3,4)"
      ],
      "metadata": {
        "colab": {
          "base_uri": "https://localhost:8080/"
        },
        "id": "FMLTPl2mye7H",
        "outputId": "f56f8533-3901-4a48-8da6-c702f7aff6ae"
      },
      "execution_count": null,
      "outputs": [
        {
          "output_type": "execute_result",
          "data": {
            "text/plain": [
              "81"
            ]
          },
          "metadata": {},
          "execution_count": 26
        }
      ]
    },
    {
      "cell_type": "code",
      "source": [
        "# keyword argument\n",
        "power(b=7,a=5)"
      ],
      "metadata": {
        "colab": {
          "base_uri": "https://localhost:8080/"
        },
        "id": "7bQ-2U7bypj6",
        "outputId": "9ace26c7-778b-47e4-806f-33b61b88f21b"
      },
      "execution_count": null,
      "outputs": [
        {
          "output_type": "execute_result",
          "data": {
            "text/plain": [
              "78125"
            ]
          },
          "metadata": {},
          "execution_count": 46
        }
      ]
    },
    {
      "cell_type": "code",
      "source": [
        "power()"
      ],
      "metadata": {
        "colab": {
          "base_uri": "https://localhost:8080/"
        },
        "id": "PHFhU9B9yxmy",
        "outputId": "12a46459-da44-46c8-c3c1-40a0d40f4221"
      },
      "execution_count": null,
      "outputs": [
        {
          "output_type": "execute_result",
          "data": {
            "text/plain": [
              "1"
            ]
          },
          "metadata": {},
          "execution_count": 112
        }
      ]
    },
    {
      "cell_type": "code",
      "source": [
        "def g(y):\n",
        "  print(x)\n",
        "  print(x+1)\n",
        "x=5\n",
        "g(x)\n",
        "print(x)"
      ],
      "metadata": {
        "colab": {
          "base_uri": "https://localhost:8080/"
        },
        "id": "TJumkoAmzRxA",
        "outputId": "0bc8d207-2762-4b4b-9b20-010b22543f03"
      },
      "execution_count": null,
      "outputs": [
        {
          "output_type": "stream",
          "name": "stdout",
          "text": [
            "5\n",
            "6\n",
            "5\n"
          ]
        }
      ]
    },
    {
      "cell_type": "markdown",
      "source": [
        "*args , **kwargs\n",
        "\n",
        "\"args\" *kwargs are special python keywords that are used to pass the variable length of arguments to a function"
      ],
      "metadata": {
        "id": "2JaD-VKfy899"
      }
    },
    {
      "cell_type": "code",
      "source": [
        "# * args\n",
        "def mutiply(*args):\n",
        "  product=1\n",
        "  for i in range(0,len(args)) :\n",
        "      product*=args[i]\n",
        "  return product\n",
        "\n"
      ],
      "metadata": {
        "id": "JSFk_Zy9y8I1"
      },
      "execution_count": null,
      "outputs": []
    },
    {
      "cell_type": "code",
      "source": [
        "mutiply(1,2,5,6,7)"
      ],
      "metadata": {
        "colab": {
          "base_uri": "https://localhost:8080/"
        },
        "id": "1wlHtDDdz_da",
        "outputId": "fb3f1ac2-15d0-469b-a87f-5070e0c88404"
      },
      "execution_count": null,
      "outputs": [
        {
          "output_type": "execute_result",
          "data": {
            "text/plain": [
              "2"
            ]
          },
          "metadata": {},
          "execution_count": 41
        }
      ]
    },
    {
      "cell_type": "code",
      "source": [
        "a,b,*c=1,2,3,4,5,6\n",
        "print(a,b,c)"
      ],
      "metadata": {
        "colab": {
          "base_uri": "https://localhost:8080/"
        },
        "id": "YT9LcU0T5GQJ",
        "outputId": "4499f1a9-86c1-4820-cf62-207d46a6c933"
      },
      "execution_count": null,
      "outputs": [
        {
          "output_type": "stream",
          "name": "stdout",
          "text": [
            "1 2 [3, 4, 5, 6]\n"
          ]
        }
      ]
    },
    {
      "cell_type": "code",
      "source": [
        "mutiply(1,2)"
      ],
      "metadata": {
        "colab": {
          "base_uri": "https://localhost:8080/"
        },
        "id": "idmHW9t00DIk",
        "outputId": "70c247be-369f-4926-c22a-43410548e7a4"
      },
      "execution_count": null,
      "outputs": [
        {
          "output_type": "execute_result",
          "data": {
            "text/plain": [
              "2"
            ]
          },
          "metadata": {},
          "execution_count": 44
        }
      ]
    },
    {
      "cell_type": "code",
      "source": [
        "mutiply(1,3,4,5,6,7,89,5,0)"
      ],
      "metadata": {
        "colab": {
          "base_uri": "https://localhost:8080/"
        },
        "id": "Z4IQDtmM0Fit",
        "outputId": "980c154b-1078-40b3-ec60-bd9b37689519"
      },
      "execution_count": null,
      "outputs": [
        {
          "output_type": "execute_result",
          "data": {
            "text/plain": [
              "0"
            ]
          },
          "metadata": {},
          "execution_count": 45
        }
      ]
    },
    {
      "cell_type": "code",
      "source": [
        "def calculate_sum(*args):\n",
        "    \"\"\"Calculate the sum of a variable number of arguments.\"\"\"\n",
        "    return sum(args)\n",
        "\n",
        "# Call the function with different numbers of arguments\n",
        "result1 = calculate_sum(1, 2, 3)\n",
        "result2 = calculate_sum(4, 5, 6, 7, 8)\n",
        "result3 = calculate_sum(10, 20, 30, 40, 50)\n",
        "\n",
        "print(result1)  # Output: 6\n",
        "print(result2)  # Output: 30\n",
        "print(result3)  # Output: 150\n"
      ],
      "metadata": {
        "id": "_otmYurj0IjG",
        "colab": {
          "base_uri": "https://localhost:8080/"
        },
        "outputId": "585cd32c-cf0b-4d0d-80fc-578ef0bdb86c"
      },
      "execution_count": null,
      "outputs": [
        {
          "output_type": "stream",
          "name": "stdout",
          "text": [
            "6\n",
            "30\n",
            "150\n"
          ]
        }
      ]
    },
    {
      "cell_type": "code",
      "source": [
        "def add(a=10,b=0):\n",
        "  c=a+b\n",
        "  return c"
      ],
      "metadata": {
        "id": "RuIK2BjV5yxq"
      },
      "execution_count": null,
      "outputs": []
    },
    {
      "cell_type": "code",
      "source": [
        "add()"
      ],
      "metadata": {
        "colab": {
          "base_uri": "https://localhost:8080/"
        },
        "id": "BasGMotA58le",
        "outputId": "a946a7cd-78dd-4b91-8c35-8794bc2b62dc"
      },
      "execution_count": null,
      "outputs": [
        {
          "output_type": "execute_result",
          "data": {
            "text/plain": [
              "10"
            ]
          },
          "metadata": {},
          "execution_count": 68
        }
      ]
    },
    {
      "cell_type": "code",
      "source": [
        "add(1,2)"
      ],
      "metadata": {
        "colab": {
          "base_uri": "https://localhost:8080/"
        },
        "id": "SRw-tsXT6CFF",
        "outputId": "6554dce0-90e8-44a2-b18c-940ddb62f847"
      },
      "execution_count": null,
      "outputs": [
        {
          "output_type": "execute_result",
          "data": {
            "text/plain": [
              "3"
            ]
          },
          "metadata": {},
          "execution_count": 69
        }
      ]
    },
    {
      "cell_type": "code",
      "source": [
        "def display_info(*ashu, prefix=\"Info: \"):\n",
        "    \"\"\"Display information with a specified prefix.\"\"\"\n",
        "    for arg in ashu:\n",
        "        print(prefix + str(ashu))\n",
        "\n",
        "# Call the function\n",
        "display_info(\"Data processing complete\", \"Errors found\")\n"
      ],
      "metadata": {
        "colab": {
          "base_uri": "https://localhost:8080/"
        },
        "id": "RpqlLe9szdtk",
        "outputId": "31a97f44-b4d4-4d79-cc82-1c1ae4ea80cc"
      },
      "execution_count": null,
      "outputs": [
        {
          "output_type": "stream",
          "name": "stdout",
          "text": [
            "Info: ('Data processing complete', 'Errors found')\n",
            "Info: ('Data processing complete', 'Errors found')\n"
          ]
        }
      ]
    },
    {
      "cell_type": "code",
      "source": [
        "def calculate_average(*args):\n",
        "    \"\"\"Calculate the average of a variable number of arguments.\"\"\"\n",
        "    if not args:\n",
        "        return None\n",
        "    return sum(args) / len(args)\n",
        "\n",
        "# Call the function\n",
        "average1 = calculate_average(10, 20, 30, 40, 50)\n",
        "average2 = calculate_average(5, 15, 25)\n",
        "\n",
        "print(average1)  # Output: 30.0\n",
        "print(average2)  # Output: 15.0\n"
      ],
      "metadata": {
        "colab": {
          "base_uri": "https://localhost:8080/"
        },
        "id": "Eaod3JyPzowI",
        "outputId": "7351aa2c-8e7a-4a7a-a263-5a9dd217b152"
      },
      "execution_count": null,
      "outputs": [
        {
          "output_type": "stream",
          "name": "stdout",
          "text": [
            "30.0\n",
            "15.0\n"
          ]
        }
      ]
    },
    {
      "cell_type": "code",
      "source": [
        "def concatenate_strings(*args, separator=\" \"):\n",
        "    \"\"\"Concatenate a variable number of strings with a specified separator.\"\"\"\n",
        "    return separator.join(map(str, args))\n",
        "\n",
        "# Call the function\n",
        "result = concatenate_strings(\"Hello\", \"World\", \"Python\", separator=\"-\")\n",
        "print(result)  # Output: Hello-World-Python\n"
      ],
      "metadata": {
        "colab": {
          "base_uri": "https://localhost:8080/"
        },
        "id": "jWRXeeEnzsDv",
        "outputId": "22be97bf-6aa1-44ac-e3d8-1a2f4e5f38ce"
      },
      "execution_count": null,
      "outputs": [
        {
          "output_type": "stream",
          "name": "stdout",
          "text": [
            "Hello-World-Python\n"
          ]
        }
      ]
    },
    {
      "cell_type": "markdown",
      "source": [
        "**kwargs allows us to pass a variable number of keyword arguments to a Python function. In the function, we use the double-asterisk (**) before the parameter name to denote this type of argument."
      ],
      "metadata": {
        "id": "vOG770540SaN"
      }
    },
    {
      "cell_type": "code",
      "source": [
        "def print_details(**items):\n",
        "    \"\"\"Print details using keyword arguments.\"\"\"\n",
        "    for key, value in items.items():\n",
        "        print(f\"{key}: {value}\")\n",
        "\n",
        "# Call the function with named parameters\n",
        "print_details(name=\"John\", age=25, city=\"New York\")"
      ],
      "metadata": {
        "colab": {
          "base_uri": "https://localhost:8080/"
        },
        "id": "nBG5Gr4wzvG-",
        "outputId": "4e6f255c-08d7-4914-fd7f-e62ba3d416e2"
      },
      "execution_count": null,
      "outputs": [
        {
          "output_type": "stream",
          "name": "stdout",
          "text": [
            "name: John\n",
            "age: 25\n",
            "city: New York\n"
          ]
        }
      ]
    },
    {
      "cell_type": "code",
      "source": [
        "def complex_function(arg1, kwarg1=\"default\", **kwargs):\n",
        "    \"\"\"A function with positional, keyword, and **kwargs.\"\"\"\n",
        "    print(\"arg1:\", arg1)\n",
        "    print(\"kwarg1:\", kwarg1)\n",
        "    print(\"kwargs:\", kwargs)\n",
        "\n",
        "# Call the function with a mix of arguments\n",
        "complex_function(1, kwarg1=\"custom\", name=\"Alice\", age=30, city=\"Wonderland\")\n"
      ],
      "metadata": {
        "colab": {
          "base_uri": "https://localhost:8080/"
        },
        "id": "KQAye8bs0Ikp",
        "outputId": "bd8ecb63-df72-480a-d8c0-4c44e304df93"
      },
      "execution_count": null,
      "outputs": [
        {
          "output_type": "stream",
          "name": "stdout",
          "text": [
            "arg1: 1\n",
            "kwarg1: custom\n",
            "kwargs: {'name': 'Alice', 'age': 30, 'city': 'Wonderland'}\n"
          ]
        }
      ]
    },
    {
      "cell_type": "code",
      "source": [
        "def print_info(*args, **kwargs):\n",
        "    \"\"\"Print a mix of positional and keyword arguments.\"\"\"\n",
        "    print(\"Positional arguments:\", args)\n",
        "    print(\"Keyword arguments:\", kwargs)\n",
        "\n",
        "# Call the function with a mix of arguments\n",
        "print_info(1,2,3,4,5,6,7,8 ,name=\"Alice\", age=25, city=\"Wonderland\")"
      ],
      "metadata": {
        "colab": {
          "base_uri": "https://localhost:8080/"
        },
        "id": "wpc-YIar0ixL",
        "outputId": "49daac70-946d-44b3-dc6b-bc2b39fce3cb"
      },
      "execution_count": null,
      "outputs": [
        {
          "output_type": "stream",
          "name": "stdout",
          "text": [
            "Positional arguments: (1, 2, 3, 4, 5, 6, 7, 8)\n",
            "Keyword arguments: {'name': 'Alice', 'age': 25, 'city': 'Wonderland'}\n"
          ]
        }
      ]
    },
    {
      "cell_type": "code",
      "source": [],
      "metadata": {
        "id": "2U1803D77hUO"
      },
      "execution_count": null,
      "outputs": []
    },
    {
      "cell_type": "code",
      "source": [
        "def print_info(*args, **kwargs):\n",
        "    \"\"\"Print a mix of positional and keyword arguments.\"\"\"\n",
        "    print(\"Positional arguments:\", args)\n",
        "    print(\"Keyword arguments:\", kwargs)\n",
        "\n",
        "# Call the function with a mix of arguments\n",
        "print_info(1,2,3,4,5 ,name=\"Alice\", age=25, city=\"Wonderland\")"
      ],
      "metadata": {
        "id": "h6hoSGw-0qWz",
        "colab": {
          "base_uri": "https://localhost:8080/"
        },
        "outputId": "e4d9d999-8259-47ac-ad33-0afa676f2adc"
      },
      "execution_count": null,
      "outputs": [
        {
          "output_type": "stream",
          "name": "stdout",
          "text": [
            "Positional arguments: (1, 2, 3, 4, 5)\n",
            "Keyword arguments: {'name': 'Alice', 'age': 25, 'city': 'Wonderland'}\n"
          ]
        }
      ]
    },
    {
      "cell_type": "code",
      "source": [],
      "metadata": {
        "id": "MWyWYpxSdKvY"
      },
      "execution_count": null,
      "outputs": []
    }
  ]
}