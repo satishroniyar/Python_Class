{
  "cells": [
    {
      "cell_type": "code",
      "execution_count": 8,
      "id": "f514006e",
      "metadata": {
        "id": "f514006e"
      },
      "outputs": [],
      "source": [
        "# Price Data\n",
        "\n",
        "item_dict = {'almonds': 6,\n",
        " 'antioxidant juice': 9,\n",
        " 'avocado': 1,\n",
        " 'black tea': 4,\n",
        " 'burgers': 4,\n",
        " 'champagne': 3,\n",
        " 'chicken': 4,\n",
        " 'chocolate': 7,\n",
        " 'chutney': 7,\n",
        " 'cookies': 7,\n",
        " 'cooking oil': 7,\n",
        " 'cottage cheese': 9,\n",
        " 'eggs': 9,\n",
        " 'energy bar': 9,\n",
        " 'energy drink': 3,\n",
        " 'extra dark chocolate': 8,\n",
        " 'french fries': 7,\n",
        " 'fresh tuna': 9,\n",
        " 'frozen smoothie': 7,\n",
        " 'frozen vegetables': 2,\n",
        " 'green grapes': 8,\n",
        " 'green tea': 8,\n",
        " 'honey': 9,\n",
        " 'light cream': 5,\n",
        " 'low fat yogurt': 4,\n",
        " 'meatballs': 9,\n",
        " 'milk': 5,\n",
        " 'mineral water': 2,\n",
        " 'oil': 9,\n",
        " 'olive oil': 8,\n",
        " 'pet food': 3,\n",
        " 'protein bar': 1,\n",
        " 'salad': 7,\n",
        " 'salmon': 3,\n",
        " 'shallot': 6,\n",
        " 'shrimp': 2,\n",
        " 'soup': 2,\n",
        " 'spaghetti': 6,\n",
        " 'spinach': 7,\n",
        " 'tomato juice': 8,\n",
        " 'tomatoes': 5,\n",
        " 'turkey': 8,\n",
        " 'vegetables mix': 3,\n",
        " 'whole wheat flour': 5,\n",
        " 'whole wheat pasta': 5,\n",
        " 'whole wheat rice': 4,\n",
        " 'yams': 7}\n"
      ]
    },
    {
      "cell_type": "code",
      "execution_count": 9,
      "id": "e41d69a3",
      "metadata": {
        "id": "e41d69a3"
      },
      "outputs": [],
      "source": [
        "# transaction data\n",
        "\n",
        "transaction_data = \\\n",
        "[['shrimp', 'almonds', 'avocado', 'vegetables mix', 'green grapes', 'whole wheat flour', 'yams', 'cottage cheese', 'energy drink', 'tomato juice', 'low fat yogurt', 'green tea', 'honey', 'salad', 'mineral water', 'salmon', 'antioxidant juice', 'frozen smoothie', 'spinach', 'olive oil'],\n",
        "['burgers', 'meatballs', 'eggs'],\n",
        "['chutney'],\n",
        "['turkey', 'avocado'],\n",
        "['mineral water', 'milk', 'energy bar', 'whole wheat rice', 'green tea'],\n",
        "['low fat yogurt'],\n",
        "['whole wheat pasta', 'french fries'],\n",
        "['soup', 'light cream', 'shallot'],\n",
        "['frozen vegetables', 'spaghetti', 'green tea'],\n",
        "['french fries'],\n",
        "['eggs', 'pet food'],\n",
        "['cookies'],\n",
        "['turkey', 'burgers', 'mineral water', 'eggs', 'cooking oil'],\n",
        "['spaghetti', 'champagne', 'cookies'],\n",
        "['mineral water', 'salmon'],\n",
        "['mineral water'],\n",
        "['shrimp', 'chocolate', 'chicken', 'honey', 'oil', 'cooking oil', 'low fat yogurt'],\n",
        "['turkey', 'eggs'],\n",
        "['turkey', 'fresh tuna', 'tomatoes', 'spaghetti', 'mineral water', 'black tea', 'salmon', 'eggs', 'chicken', 'extra dark chocolate'],\n",
        "['meatballs', 'milk', 'honey', 'french fries', 'protein bar']]"
      ]
    },
    {
      "cell_type": "markdown",
      "id": "fa48333a",
      "metadata": {
        "id": "fa48333a"
      },
      "source": [
        "Q1. Based on customer demand, items keep changing in the store. Your first task is to create a function that lets the admin add or remove items from the store directory(Cost dictionary)."
      ]
    },
    {
      "cell_type": "markdown",
      "id": "32fb4625",
      "metadata": {
        "id": "32fb4625"
      },
      "source": [
        "● Find how many unique items are present in the data? (Hint: It will correspond to the number of key pairs in the Cost dictionary) I"
      ]
    },
    {
      "cell_type": "code",
      "execution_count": 11,
      "id": "ed8c0cfb",
      "metadata": {
        "id": "ed8c0cfb",
        "outputId": "67ca9989-6274-4619-cb4d-c8c2d0e761b4",
        "colab": {
          "base_uri": "https://localhost:8080/"
        }
      },
      "outputs": [
        {
          "output_type": "stream",
          "name": "stdout",
          "text": [
            "Number of unique items in the store: 47\n"
          ]
        }
      ],
      "source": [
        "    # printing the number of unique items\n",
        "unique_item_count = len(item_dict)\n",
        "print(f\"Number of unique items in the store: {unique_item_count}\")\n"
      ]
    },
    {
      "cell_type": "markdown",
      "id": "b4e02f3a",
      "metadata": {
        "id": "b4e02f3a"
      },
      "source": [
        "● Find the total number of transactions?"
      ]
    },
    {
      "cell_type": "code",
      "execution_count": 12,
      "id": "d1993f3b",
      "metadata": {
        "id": "d1993f3b",
        "outputId": "82e0a9d5-5abe-41be-a945-9e75c7c2da18",
        "colab": {
          "base_uri": "https://localhost:8080/"
        }
      },
      "outputs": [
        {
          "output_type": "stream",
          "name": "stdout",
          "text": [
            "Total number of transactions: 20\n"
          ]
        }
      ],
      "source": [
        "total_transactions = len(transaction_data)\n",
        "print(f\"Total number of transactions: {total_transactions}\")"
      ]
    },
    {
      "cell_type": "markdown",
      "id": "83b474f9",
      "metadata": {
        "id": "83b474f9"
      },
      "source": [
        "●\tAdd items, try adding the item “banana” in stores. The cost of this item is $5. Add the item “banana” to the Cost dictionary.\n",
        "\n",
        "●\tUse a function named add_item( ) to automatically add an item to the Cost dictionary given its name and price.\n"
      ]
    },
    {
      "cell_type": "code",
      "execution_count": 23,
      "id": "d7f0f26b",
      "metadata": {
        "id": "d7f0f26b",
        "outputId": "0ef2d5bc-6ba4-4f67-decc-ba7aef18e92c",
        "colab": {
          "base_uri": "https://localhost:8080/"
        }
      },
      "outputs": [
        {
          "output_type": "stream",
          "name": "stdout",
          "text": [
            "banana' has been added to the store with price $5.\n",
            "banana' successfully added with price $5\n"
          ]
        }
      ],
      "source": [
        "item_dict = {\n",
        "    'almonds': 6, 'antioxidant juice': 9, 'avocado': 1, 'black tea': 4,\n",
        "    'burgers': 4, 'champagne': 3, 'chicken': 4, 'chocolate': 7,\n",
        "    'chutney': 7, 'cookies': 7, 'cooking oil': 7, 'cottage cheese': 9,\n",
        "    'eggs': 9, 'energy bar': 9, 'energy drink': 3, 'extra dark chocolate': 8,\n",
        "    'french fries': 7, 'fresh tuna': 9, 'frozen smoothie': 7,\n",
        "    'frozen vegetables': 2, 'green grapes': 8, 'green tea': 8, 'honey': 9,\n",
        "    'light cream': 5, 'low fat yogurt': 4, 'meatballs': 9, 'milk': 5,\n",
        "    'mineral water': 2, 'oil': 9, 'olive oil': 8, 'pet food': 3,\n",
        "    'protein bar': 1, 'salad': 7, 'salmon': 3, 'shallot': 6, 'shrimp': 2,\n",
        "    'soup': 2, 'spaghetti': 6, 'spinach': 7, 'tomato juice': 8,\n",
        "    'tomatoes': 5, 'turkey': 8, 'vegetables mix': 3, 'whole wheat flour': 5,\n",
        "    'whole wheat pasta': 5, 'whole wheat rice': 4, 'yams': 7\n",
        "}\n",
        "\n",
        "# ==========================\n",
        "# Function to Add Items\n",
        "# ==========================\n",
        "def add_item(cost_dict, item_name, item_price):\n",
        "    cost_dict[item_name] = item_price\n",
        "    print(f\"{item_name}' has been added to the store with price ${item_price}.\")\n",
        "    return cost_dict\n",
        "\n",
        "item_dict = add_item(item_dict, \"banana\", 5)\n",
        "\n",
        "if \"banana\" in item_dict:\n",
        "    print(f\"banana' successfully added with price ${item_dict['banana']}\")\n",
        "else:\n",
        "    print(\"banana' was not added.\")"
      ]
    },
    {
      "cell_type": "markdown",
      "id": "67026eba",
      "metadata": {
        "id": "67026eba"
      },
      "source": [
        "●\tRemove an item: for example: if the customers at Walmart do not seem to be purchasing “banana,” and the store decides to discontinue this item. The function to should be able to remove the item “banana” from the Cost dictionary\n",
        "\n",
        "●\tCreate a function called remove_item( ) to automatically remove an item from the Cost dictionary given its name.\n"
      ]
    },
    {
      "cell_type": "code",
      "execution_count": 25,
      "id": "2e26ae37",
      "metadata": {
        "id": "2e26ae37",
        "outputId": "c4859b2c-bb22-471e-e893-7faf59f56692",
        "colab": {
          "base_uri": "https://localhost:8080/"
        }
      },
      "outputs": [
        {
          "output_type": "stream",
          "name": "stdout",
          "text": [
            "banana' has been removed from the store.\n",
            "banana' successfully removed.\n"
          ]
        }
      ],
      "source": [
        "item_dict = {\n",
        "    'almonds': 6, 'antioxidant juice': 9, 'avocado': 1, 'black tea': 4,\n",
        "    'burgers': 4, 'champagne': 3, 'chicken': 4, 'chocolate': 7,\n",
        "    'chutney': 7, 'cookies': 7, 'cooking oil': 7, 'cottage cheese': 9,\n",
        "    'eggs': 9, 'energy bar': 9, 'energy drink': 3, 'extra dark chocolate': 8,\n",
        "    'french fries': 7, 'fresh tuna': 9, 'frozen smoothie': 7,\n",
        "    'frozen vegetables': 2, 'green grapes': 8, 'green tea': 8, 'honey': 9,\n",
        "    'light cream': 5, 'low fat yogurt': 4, 'meatballs': 9, 'milk': 5,\n",
        "    'mineral water': 2, 'oil': 9, 'olive oil': 8, 'pet food': 3,\n",
        "    'protein bar': 1, 'salad': 7, 'salmon': 3, 'shallot': 6, 'shrimp': 2,\n",
        "    'soup': 2, 'spaghetti': 6, 'spinach': 7, 'tomato juice': 8,\n",
        "    'tomatoes': 5, 'turkey': 8, 'vegetables mix': 3, 'whole wheat flour': 5,\n",
        "    'whole wheat pasta': 5, 'whole wheat rice': 4, 'yams': 7, 'banana': 5\n",
        "}\n",
        "def remove_item(cost_dict, item_name):\n",
        "    if item_name in cost_dict:\n",
        "        del cost_dict[item_name]\n",
        "        print(f\"{item_name}' has been removed from the store.\")\n",
        "    else:\n",
        "        print(f\"{item_name}' not found in the store.\")\n",
        "    return cost_dict\n",
        "item_dict = remove_item(item_dict, \"banana\")\n",
        "if \"banana\" not in item_dict:\n",
        "    print(\"banana' successfully removed.\")\n",
        "else:\n",
        "    print(\"banana' was not removed.\")"
      ]
    },
    {
      "cell_type": "markdown",
      "id": "39d0c4e0",
      "metadata": {
        "id": "39d0c4e0"
      },
      "source": [
        "Q2. Once a customer has completed shopping, they need to be billed for the total amount of all the items. This can be done automatically by swiping each item’s barcode on a checkout system. Your second task is to build the software underlying the checkout system, which finds the total cost of all the items in a customer’s cart, including taxes:"
      ]
    },
    {
      "cell_type": "markdown",
      "id": "ce6b6968",
      "metadata": {
        "id": "ce6b6968"
      },
      "source": [
        "● Write the code, to find the price of an item from the cost dictionary\n",
        "\n",
        "○ Find the price of salmon from the cost dictionary"
      ]
    },
    {
      "cell_type": "code",
      "execution_count": 35,
      "id": "e353870d",
      "metadata": {
        "id": "e353870d",
        "outputId": "13849ee3-bda3-432e-9020-3c7dc35588a1",
        "colab": {
          "base_uri": "https://localhost:8080/"
        }
      },
      "outputs": [
        {
          "output_type": "stream",
          "name": "stdout",
          "text": [
            "3\n"
          ]
        }
      ],
      "source": [
        "print(f\"{item_dict['salmon']}\")\n"
      ]
    },
    {
      "cell_type": "markdown",
      "id": "ad60c963",
      "metadata": {
        "id": "ad60c963"
      },
      "source": [
        "●\tWrite a code that helps the administrator find any particular transaction in the sequence\n",
        "\n",
        "○\tTry finding the ninth transaction from the data"
      ]
    },
    {
      "cell_type": "code",
      "execution_count": 27,
      "id": "49d46ee7",
      "metadata": {
        "id": "49d46ee7",
        "outputId": "4df4df49-5305-45d5-d325-a5c7719313dd",
        "colab": {
          "base_uri": "https://localhost:8080/"
        }
      },
      "outputs": [
        {
          "output_type": "stream",
          "name": "stdout",
          "text": [
            "['frozen vegetables', 'spaghetti', 'green tea']\n"
          ]
        }
      ],
      "source": [
        "transaction_data = [\n",
        "    ['shrimp', 'almonds', 'avocado', 'vegetables mix', 'green grapes',\n",
        "     'whole wheat flour', 'yams', 'cottage cheese', 'energy drink',\n",
        "     'tomato juice', 'low fat yogurt', 'green tea', 'honey', 'salad',\n",
        "     'mineral water', 'salmon', 'antioxidant juice', 'frozen smoothie',\n",
        "     'spinach', 'olive oil'],\n",
        "    ['burgers', 'meatballs', 'eggs'],\n",
        "    ['chutney'],\n",
        "    ['turkey', 'avocado'],\n",
        "    ['mineral water', 'milk', 'energy bar', 'whole wheat rice', 'green tea'],\n",
        "    ['low fat yogurt'],\n",
        "    ['whole wheat pasta', 'french fries'],\n",
        "    ['soup', 'light cream', 'shallot'],\n",
        "    ['frozen vegetables', 'spaghetti', 'green tea'],  # 9th transaction\n",
        "    ['french fries'],\n",
        "    ['eggs', 'pet food'],\n",
        "    ['cookies'],\n",
        "    ['turkey', 'burgers', 'mineral water', 'eggs', 'cooking oil'],\n",
        "    ['spaghetti', 'champagne', 'cookies'],\n",
        "    ['mineral water', 'salmon'],\n",
        "    ['mineral water'],\n",
        "    ['shrimp', 'chocolate', 'chicken', 'honey', 'oil', 'cooking oil',\n",
        "     'low fat yogurt'],\n",
        "    ['turkey', 'eggs'],\n",
        "    ['turkey', 'fresh tuna', 'tomatoes', 'spaghetti', 'mineral water',\n",
        "     'black tea', 'salmon', 'eggs', 'chicken', 'extra dark chocolate'],\n",
        "    ['meatballs', 'milk', 'honey', 'french fries', 'protein bar']\n",
        "]\n",
        "print(transaction_data[8])"
      ]
    },
    {
      "cell_type": "markdown",
      "id": "37f21945",
      "metadata": {
        "id": "37f21945"
      },
      "source": [
        "● How many items are present in the ninth transaction?"
      ]
    },
    {
      "cell_type": "code",
      "execution_count": 29,
      "id": "9fb7af29",
      "metadata": {
        "id": "9fb7af29",
        "outputId": "0f9ab97f-b3cf-4043-9580-81fcb2ed5657",
        "colab": {
          "base_uri": "https://localhost:8080/"
        }
      },
      "outputs": [
        {
          "output_type": "stream",
          "name": "stdout",
          "text": [
            "3\n"
          ]
        }
      ],
      "source": [
        "ninth_transaction = transaction_data[8]\n",
        "item_count = len(ninth_transaction)\n",
        "print(f\"{item_count}\")"
      ]
    },
    {
      "cell_type": "markdown",
      "id": "fcf456e6",
      "metadata": {
        "id": "fcf456e6"
      },
      "source": [
        "● Find the total cost of the ninth transaction from the array of transactions."
      ]
    },
    {
      "cell_type": "code",
      "execution_count": 30,
      "id": "379b3a51",
      "metadata": {
        "id": "379b3a51",
        "outputId": "7b874607-f61c-493e-ef07-024bf22876a3",
        "colab": {
          "base_uri": "https://localhost:8080/"
        }
      },
      "outputs": [
        {
          "output_type": "stream",
          "name": "stdout",
          "text": [
            "16\n"
          ]
        }
      ],
      "source": [
        "total_cost = sum(item_dict[i] for i in transaction_data[8])\n",
        "print(total_cost)\n"
      ]
    },
    {
      "cell_type": "markdown",
      "id": "0f2c5158",
      "metadata": {
        "id": "0f2c5158"
      },
      "source": [
        "● As per government guidelines, a mandatory 5% tax is applied to the total cost of a transaction. Find the final price of the second transaction after applicable taxes have been implemented.\n",
        "\n",
        "● Create a function named find_total( ) to find the final price of any transaction after applicable taxes have been implemented."
      ]
    },
    {
      "cell_type": "code",
      "execution_count": 31,
      "id": "0bc8a0e8",
      "metadata": {
        "id": "0bc8a0e8",
        "outputId": "828d645f-1065-4d0e-aadf-88896cbf876f",
        "colab": {
          "base_uri": "https://localhost:8080/"
        }
      },
      "outputs": [
        {
          "output_type": "stream",
          "name": "stdout",
          "text": [
            "23.1\n"
          ]
        }
      ],
      "source": [
        "def find_total(prices, transactions, index, tax=0.05):\n",
        "    return round(sum(prices[i] for i in transactions[index]) * (1 + tax), 2)\n",
        "\n",
        "print(find_total(item_dict, transaction_data, 1))"
      ]
    }
  ],
  "metadata": {
    "kernelspec": {
      "display_name": "Python 3 (ipykernel)",
      "language": "python",
      "name": "python3"
    },
    "language_info": {
      "codemirror_mode": {
        "name": "ipython",
        "version": 3
      },
      "file_extension": ".py",
      "mimetype": "text/x-python",
      "name": "python",
      "nbconvert_exporter": "python",
      "pygments_lexer": "ipython3",
      "version": "3.10.9"
    },
    "colab": {
      "provenance": []
    }
  },
  "nbformat": 4,
  "nbformat_minor": 5
}