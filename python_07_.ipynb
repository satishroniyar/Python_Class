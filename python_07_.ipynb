{
  "nbformat": 4,
  "nbformat_minor": 0,
  "metadata": {
    "colab": {
      "provenance": []
    },
    "kernelspec": {
      "name": "python3",
      "display_name": "Python 3"
    },
    "language_info": {
      "name": "python"
    }
  },
  "cells": [
    {
      "cell_type": "markdown",
      "source": [
        "*args , **kwargs\n",
        "\n",
        " \"*args\"\n",
        " **kwargs are special python keywords that are used to pass the variable length of arguments to a function\n"
      ],
      "metadata": {
        "id": "s_S1XXPpJXeC"
      }
    },
    {
      "cell_type": "code",
      "source": [
        "# * args\n",
        "def mutiply(*values):\n",
        "  product=1\n",
        "  for i in values:\n",
        "    product = product*i;\n",
        "\n",
        "  print()\n",
        "  return product\n",
        "\n",
        "\n",
        "\n"
      ],
      "metadata": {
        "id": "6sJGSZ0HJpj4"
      },
      "execution_count": null,
      "outputs": []
    },
    {
      "cell_type": "code",
      "source": [
        "mutiply(2,3,4,5,6,5,3,2,5,2,45,3,5,2,5,2,6,7,7)"
      ],
      "metadata": {
        "colab": {
          "base_uri": "https://localhost:8080/"
        },
        "id": "JbRliqzRKIAA",
        "outputId": "b743789e-a63a-47e0-af03-e2166d5daafb"
      },
      "execution_count": null,
      "outputs": [
        {
          "output_type": "stream",
          "name": "stdout",
          "text": [
            "\n"
          ]
        },
        {
          "output_type": "execute_result",
          "data": {
            "text/plain": [
              "857304000000"
            ]
          },
          "metadata": {},
          "execution_count": 16
        }
      ]
    },
    {
      "cell_type": "code",
      "source": [
        "type(mutiply)"
      ],
      "metadata": {
        "colab": {
          "base_uri": "https://localhost:8080/"
        },
        "id": "QjMJOEbeKRoa",
        "outputId": "c5f133fc-94ef-4f20-fee3-1a82d591d0f9"
      },
      "execution_count": null,
      "outputs": [
        {
          "output_type": "execute_result",
          "data": {
            "text/plain": [
              "function"
            ]
          },
          "metadata": {},
          "execution_count": 3
        }
      ]
    },
    {
      "cell_type": "code",
      "source": [
        "# * args\n",
        "def mutiply(**args):\n",
        "  # product={\"key\":1,\"name\":\"ashu\"}\n",
        "  for i in args:\n",
        "    return args"
      ],
      "metadata": {
        "id": "_GNBsUajK6Mu"
      },
      "execution_count": null,
      "outputs": []
    },
    {
      "cell_type": "code",
      "source": [
        "mutiply(first=\"Geeks\")"
      ],
      "metadata": {
        "colab": {
          "base_uri": "https://localhost:8080/"
        },
        "id": "eTabRpFZqOh3",
        "outputId": "6fc81ce6-683c-4278-d424-4061df9489f9"
      },
      "execution_count": null,
      "outputs": [
        {
          "output_type": "execute_result",
          "data": {
            "text/plain": [
              "{'first': 'Geeks'}"
            ]
          },
          "metadata": {},
          "execution_count": 26
        }
      ]
    },
    {
      "cell_type": "code",
      "source": [
        "def myFun(*args, **kwargs):\n",
        "    print(\"args: \", args)\n",
        "    print(\"kwargs: \", kwargs)\n",
        "\n",
        "\n",
        "# Now we can use both *args ,**kwargs\n",
        "# to pass arguments to this function :\n",
        "myFun('geeks', 'for', 'geeks','rakesh',\"rohan\", first=\"Geeks\", mid=\"for\", last=\"Geeks\",name=\"rakesh\")"
      ],
      "metadata": {
        "colab": {
          "base_uri": "https://localhost:8080/",
          "height": 144
        },
        "id": "Ta_-9rkdL5Iy",
        "outputId": "621d38ed-f4cc-4efe-d724-6e1960877b3e"
      },
      "execution_count": null,
      "outputs": [
        {
          "output_type": "error",
          "ename": "SyntaxError",
          "evalue": "ignored",
          "traceback": [
            "\u001b[0;36m  File \u001b[0;32m\"<ipython-input-28-71923c88b9c7>\"\u001b[0;36m, line \u001b[0;32m8\u001b[0m\n\u001b[0;31m    myFun('geeks',first=\"Geeks\",'for', 'geeks','rakesh',\"rohan\", mid=\"for\", last=\"Geeks\",name=\"rakesh\")\u001b[0m\n\u001b[0m                                                                                                      ^\u001b[0m\n\u001b[0;31mSyntaxError\u001b[0m\u001b[0;31m:\u001b[0m positional argument follows keyword argument\n"
          ]
        }
      ]
    },
    {
      "cell_type": "code",
      "source": [
        "l=[1,2,3]\n",
        "print(l.append(4))\n",
        "print(l)"
      ],
      "metadata": {
        "colab": {
          "base_uri": "https://localhost:8080/"
        },
        "id": "Rq5l_YPMMXhW",
        "outputId": "c242d824-87b9-411b-98b5-171efc4a347c"
      },
      "execution_count": null,
      "outputs": [
        {
          "output_type": "stream",
          "name": "stdout",
          "text": [
            "None\n",
            "[1, 2, 3, 4]\n"
          ]
        }
      ]
    },
    {
      "cell_type": "code",
      "source": [
        "def g(y):\n",
        "  print(x)\n",
        "  print(x+1)\n",
        "x=5\n",
        "g(x)\n",
        "print(x)"
      ],
      "metadata": {
        "colab": {
          "base_uri": "https://localhost:8080/"
        },
        "id": "1NDw9lhsNhEG",
        "outputId": "4aaf5737-ab27-4b24-fffc-2706a82e5344"
      },
      "execution_count": null,
      "outputs": [
        {
          "output_type": "stream",
          "name": "stdout",
          "text": [
            "5\n",
            "6\n",
            "5\n"
          ]
        }
      ]
    },
    {
      "cell_type": "code",
      "source": [
        "def f():\n",
        "    print(\"hello world\")\n",
        "    f()\n",
        "    print(\"hello\")"
      ],
      "metadata": {
        "id": "awXpzhVHObf2"
      },
      "execution_count": null,
      "outputs": []
    },
    {
      "cell_type": "code",
      "source": [
        "# lambda funtion"
      ],
      "metadata": {
        "id": "vg4bU1PnOySc"
      },
      "execution_count": null,
      "outputs": []
    },
    {
      "cell_type": "code",
      "source": [
        "a=16\n",
        "b=4\n",
        "c=a+b\n",
        "print(c)"
      ],
      "metadata": {
        "id": "F4i_jnboPiM7",
        "colab": {
          "base_uri": "https://localhost:8080/"
        },
        "outputId": "c1c320fa-c6a5-4399-a685-19587bfd35b5"
      },
      "execution_count": null,
      "outputs": [
        {
          "output_type": "stream",
          "name": "stdout",
          "text": [
            "20\n"
          ]
        }
      ]
    },
    {
      "cell_type": "code",
      "source": [
        "ashu(16,5)"
      ],
      "metadata": {
        "colab": {
          "base_uri": "https://localhost:8080/"
        },
        "id": "LilzHD6s94K2",
        "outputId": "ca6732b5-5ce8-4a7e-eb70-4d36fff78b1c"
      },
      "execution_count": null,
      "outputs": [
        {
          "output_type": "execute_result",
          "data": {
            "text/plain": [
              "21"
            ]
          },
          "metadata": {},
          "execution_count": 37
        }
      ]
    },
    {
      "cell_type": "code",
      "source": [
        "def ashu(a,b):\n",
        "  return a+b"
      ],
      "metadata": {
        "id": "VMu_bm4K9vna"
      },
      "execution_count": null,
      "outputs": []
    },
    {
      "cell_type": "code",
      "source": [
        "def add(a,b):\n",
        "  print(a+b)"
      ],
      "metadata": {
        "id": "NqqgPRKI7aPE"
      },
      "execution_count": null,
      "outputs": []
    },
    {
      "cell_type": "code",
      "source": [
        "add(23,3)"
      ],
      "metadata": {
        "colab": {
          "base_uri": "https://localhost:8080/"
        },
        "id": "Rz9Fq1bA7sb1",
        "outputId": "18a5329d-e734-476a-d002-264f46baac37"
      },
      "execution_count": null,
      "outputs": [
        {
          "output_type": "stream",
          "name": "stdout",
          "text": [
            "26\n"
          ]
        }
      ]
    },
    {
      "cell_type": "code",
      "source": [
        "lambda a,b : a+b"
      ],
      "metadata": {
        "id": "HXmPMJRM7rGa"
      },
      "execution_count": null,
      "outputs": []
    },
    {
      "cell_type": "code",
      "source": [
        "sum(2,7)"
      ],
      "metadata": {
        "colab": {
          "base_uri": "https://localhost:8080/"
        },
        "id": "I7NfVxi_7rTM",
        "outputId": "ced063b1-1692-4594-a539-a9b6cbe4845c"
      },
      "execution_count": null,
      "outputs": [
        {
          "output_type": "execute_result",
          "data": {
            "text/plain": [
              "9"
            ]
          },
          "metadata": {},
          "execution_count": 14
        }
      ]
    },
    {
      "cell_type": "code",
      "source": [
        "onlyerrorsrdd = logfilesrdd.filter(lambda line: \"ERROR\" in line)"
      ],
      "metadata": {
        "id": "zG39ysZC7raB"
      },
      "execution_count": null,
      "outputs": []
    },
    {
      "cell_type": "code",
      "source": [
        "str = \"hello my name is\""
      ],
      "metadata": {
        "id": "myG5aNBK7rgn"
      },
      "execution_count": null,
      "outputs": []
    },
    {
      "cell_type": "code",
      "source": [
        "st = str.split()"
      ],
      "metadata": {
        "id": "EXOdtg1C9mwG"
      },
      "execution_count": null,
      "outputs": []
    },
    {
      "cell_type": "code",
      "source": [
        "print(st)"
      ],
      "metadata": {
        "colab": {
          "base_uri": "https://localhost:8080/"
        },
        "id": "1IEuw1ZN9qzX",
        "outputId": "eeb12dec-3ce0-4974-ad42-c9ed97aa46c8"
      },
      "execution_count": null,
      "outputs": [
        {
          "output_type": "stream",
          "name": "stdout",
          "text": [
            "['hello', 'my', 'name', 'is']\n"
          ]
        }
      ]
    },
    {
      "cell_type": "code",
      "source": [
        "def find(str):\n",
        "   for i in st:\n",
        "     i in [\"hello\"]\n",
        "     print(i)"
      ],
      "metadata": {
        "id": "z5QgNuDA9MhE"
      },
      "execution_count": null,
      "outputs": []
    },
    {
      "cell_type": "code",
      "source": [
        "find(str)"
      ],
      "metadata": {
        "colab": {
          "base_uri": "https://localhost:8080/"
        },
        "id": "QMyc95MX9bmC",
        "outputId": "6dc3bce2-d7f2-4a3b-d732-ff9f9768e8f8"
      },
      "execution_count": null,
      "outputs": [
        {
          "output_type": "stream",
          "name": "stdout",
          "text": [
            "hello\n",
            "my\n",
            "name\n",
            "is\n"
          ]
        }
      ]
    },
    {
      "cell_type": "code",
      "source": [
        "def name(a,b,c,d):\n",
        "  return a+b+c+d"
      ],
      "metadata": {
        "id": "HJ8XxkEH_Bll"
      },
      "execution_count": null,
      "outputs": []
    },
    {
      "cell_type": "markdown",
      "source": [
        "a lambda function is a small anonymous\n",
        "function\n",
        "\n",
        "\n",
        "a lambda fuction can take any number of arguments but can have one expression"
      ],
      "metadata": {
        "id": "vgpwxd2TQX_c"
      }
    },
    {
      "cell_type": "code",
      "source": [
        "b=lambda a,b : a*b"
      ],
      "metadata": {
        "id": "LwQg1zTtPn1s"
      },
      "execution_count": null,
      "outputs": []
    },
    {
      "cell_type": "code",
      "source": [
        "b(3,5)"
      ],
      "metadata": {
        "colab": {
          "base_uri": "https://localhost:8080/"
        },
        "id": "_-t-S-tk84hb",
        "outputId": "eedb29c2-5870-4405-f075-821270931399"
      },
      "execution_count": null,
      "outputs": [
        {
          "output_type": "execute_result",
          "data": {
            "text/plain": [
              "15"
            ]
          },
          "metadata": {},
          "execution_count": 2
        }
      ]
    },
    {
      "cell_type": "code",
      "source": [
        "lambda argumnets:expression"
      ],
      "metadata": {
        "id": "OT1veP62-Kf6",
        "colab": {
          "base_uri": "https://localhost:8080/"
        },
        "outputId": "36e2c3a3-f202-498d-e1f9-751a3d3574cc"
      },
      "execution_count": null,
      "outputs": [
        {
          "output_type": "execute_result",
          "data": {
            "text/plain": [
              "<function __main__.<lambda>(argumnets)>"
            ]
          },
          "metadata": {},
          "execution_count": 7
        }
      ]
    },
    {
      "cell_type": "code",
      "source": [
        "a=lambda *x"
      ],
      "metadata": {
        "id": "p8lwGTZaPphe"
      },
      "execution_count": null,
      "outputs": []
    },
    {
      "cell_type": "code",
      "source": [
        "a(2,3,4,5,6)"
      ],
      "metadata": {
        "colab": {
          "base_uri": "https://localhost:8080/",
          "height": 181
        },
        "id": "Ubm4XqrP-TsD",
        "outputId": "7c52c191-149a-467f-d12e-4fe25a5810ce"
      },
      "execution_count": null,
      "outputs": [
        {
          "output_type": "error",
          "ename": "TypeError",
          "evalue": "ignored",
          "traceback": [
            "\u001b[0;31m---------------------------------------------------------------------------\u001b[0m",
            "\u001b[0;31mTypeError\u001b[0m                                 Traceback (most recent call last)",
            "\u001b[0;32m<ipython-input-42-60af602edebe>\u001b[0m in \u001b[0;36m<cell line: 1>\u001b[0;34m()\u001b[0m\n\u001b[0;32m----> 1\u001b[0;31m \u001b[0ma\u001b[0m\u001b[0;34m(\u001b[0m\u001b[0;36m2\u001b[0m\u001b[0;34m,\u001b[0m\u001b[0;36m3\u001b[0m\u001b[0;34m,\u001b[0m\u001b[0;36m4\u001b[0m\u001b[0;34m,\u001b[0m\u001b[0;36m5\u001b[0m\u001b[0;34m,\u001b[0m\u001b[0;36m6\u001b[0m\u001b[0;34m)\u001b[0m\u001b[0;34m\u001b[0m\u001b[0;34m\u001b[0m\u001b[0m\n\u001b[0m",
            "\u001b[0;31mTypeError\u001b[0m: <lambda>() takes 1 positional argument but 5 were given"
          ]
        }
      ]
    },
    {
      "cell_type": "code",
      "source": [
        "lambda x,y,c,d:x*y*c*d\n",
        "a(5,7,5,6)"
      ],
      "metadata": {
        "colab": {
          "base_uri": "https://localhost:8080/"
        },
        "id": "yDZRduqzRAel",
        "outputId": "2ab756f4-1966-4bd1-c9f0-b74dd955c2f5"
      },
      "execution_count": null,
      "outputs": [
        {
          "output_type": "execute_result",
          "data": {
            "text/plain": [
              "1050"
            ]
          },
          "metadata": {},
          "execution_count": 8
        }
      ]
    },
    {
      "cell_type": "code",
      "source": [
        "name(1,2,3,4)"
      ],
      "metadata": {
        "colab": {
          "base_uri": "https://localhost:8080/"
        },
        "id": "3bMZt313_MDF",
        "outputId": "11c0742e-f8a9-4d53-edfd-d3318f93cefa"
      },
      "execution_count": null,
      "outputs": [
        {
          "output_type": "execute_result",
          "data": {
            "text/plain": [
              "10"
            ]
          },
          "metadata": {},
          "execution_count": 45
        }
      ]
    },
    {
      "cell_type": "markdown",
      "source": [
        "lambda function vs normal function\n",
        "\n",
        "> No name\n",
        "\n",
        "> no return\n",
        "\n",
        "> value(infact,returns a function)\n",
        "\n",
        ">lambda is a one liner function\n",
        "\n",
        ">not reusable\n"
      ],
      "metadata": {
        "id": "pHZaqRMQRWM8"
      }
    },
    {
      "cell_type": "code",
      "source": [
        "a=lambda s:\"a\" in s\n",
        "a(\"hello\")"
      ],
      "metadata": {
        "colab": {
          "base_uri": "https://localhost:8080/"
        },
        "id": "yJBOmZbBRJgY",
        "outputId": "4b58b8a0-5f48-4449-af43-ab8b9e67e8f2"
      },
      "execution_count": null,
      "outputs": [
        {
          "output_type": "execute_result",
          "data": {
            "text/plain": [
              "False"
            ]
          },
          "metadata": {},
          "execution_count": 9
        }
      ]
    },
    {
      "cell_type": "code",
      "source": [
        "a= lambda x:\"even\" if x%2==0 else \"odd\""
      ],
      "metadata": {
        "id": "rrwWr0RNSVRg"
      },
      "execution_count": null,
      "outputs": []
    },
    {
      "cell_type": "code",
      "source": [
        "a(6)"
      ],
      "metadata": {
        "colab": {
          "base_uri": "https://localhost:8080/",
          "height": 36
        },
        "id": "2viHpekiSCki",
        "outputId": "fcbdd4a0-a9f9-43a3-a302-59f1d9e6ef26"
      },
      "execution_count": null,
      "outputs": [
        {
          "output_type": "execute_result",
          "data": {
            "text/plain": [
              "'even'"
            ],
            "application/vnd.google.colaboratory.intrinsic+json": {
              "type": "string"
            }
          },
          "metadata": {},
          "execution_count": 4
        }
      ]
    },
    {
      "cell_type": "code",
      "source": [
        "square = lambda x:x*x"
      ],
      "metadata": {
        "id": "Tt4w4LJlfWAA"
      },
      "execution_count": null,
      "outputs": []
    },
    {
      "cell_type": "code",
      "source": [
        "square(2)"
      ],
      "metadata": {
        "colab": {
          "base_uri": "https://localhost:8080/"
        },
        "id": "xt5T3cBefekT",
        "outputId": "d6b5b278-c313-43b0-b88b-ea83a0ec32f6"
      },
      "execution_count": null,
      "outputs": [
        {
          "output_type": "execute_result",
          "data": {
            "text/plain": [
              "4"
            ]
          },
          "metadata": {},
          "execution_count": 9
        }
      ]
    },
    {
      "cell_type": "code",
      "source": [
        "def square(x):\n",
        "  return x*x\n",
        "\n",
        "def cube(x):\n",
        "  return x*x*x"
      ],
      "metadata": {
        "id": "VBrh8vDDSjXr"
      },
      "execution_count": null,
      "outputs": []
    },
    {
      "cell_type": "code",
      "source": [
        "square(3)\n",
        "a(4)"
      ],
      "metadata": {
        "colab": {
          "base_uri": "https://localhost:8080/"
        },
        "id": "GajS8WOzSyzb",
        "outputId": "8b1aaa46-3a95-44bc-e0fe-318619164c54"
      },
      "execution_count": null,
      "outputs": [
        {
          "output_type": "execute_result",
          "data": {
            "text/plain": [
              "9"
            ]
          },
          "metadata": {},
          "execution_count": 81
        }
      ]
    },
    {
      "cell_type": "code",
      "source": [
        "cube(3)"
      ],
      "metadata": {
        "colab": {
          "base_uri": "https://localhost:8080/"
        },
        "id": "G4vIYQGpS0Yd",
        "outputId": "ceb38686-1525-44f3-af3b-53d924b4091f"
      },
      "execution_count": null,
      "outputs": [
        {
          "output_type": "execute_result",
          "data": {
            "text/plain": [
              "27"
            ]
          },
          "metadata": {},
          "execution_count": 82
        }
      ]
    },
    {
      "cell_type": "code",
      "source": [],
      "metadata": {
        "id": "puEuCCFpS65m"
      },
      "execution_count": null,
      "outputs": []
    }
  ]
}